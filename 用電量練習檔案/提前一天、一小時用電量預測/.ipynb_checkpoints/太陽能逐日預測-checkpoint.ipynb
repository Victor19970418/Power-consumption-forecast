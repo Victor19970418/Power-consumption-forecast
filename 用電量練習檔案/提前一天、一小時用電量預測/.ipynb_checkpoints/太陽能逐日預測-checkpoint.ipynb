{
 "cells": [
  {
   "cell_type": "code",
   "execution_count": 1,
   "id": "f975fb4b",
   "metadata": {
    "ExecuteTime": {
     "end_time": "2022-08-14T19:28:21.862065Z",
     "start_time": "2022-08-14T19:28:18.784556Z"
    }
   },
   "outputs": [
    {
     "ename": "ModuleNotFoundError",
     "evalue": "No module named 'sklearn_rvm'",
     "output_type": "error",
     "traceback": [
      "\u001b[1;31m---------------------------------------------------------------------------\u001b[0m",
      "\u001b[1;31mModuleNotFoundError\u001b[0m                       Traceback (most recent call last)",
      "\u001b[1;32m<ipython-input-1-8f8a5c1c5fab>\u001b[0m in \u001b[0;36m<module>\u001b[1;34m\u001b[0m\n\u001b[0;32m     11\u001b[0m \u001b[1;32mfrom\u001b[0m \u001b[0msklearn\u001b[0m\u001b[1;33m.\u001b[0m\u001b[0mlinear_model\u001b[0m \u001b[1;32mimport\u001b[0m \u001b[0mLinearRegression\u001b[0m\u001b[1;33m\u001b[0m\u001b[1;33m\u001b[0m\u001b[0m\n\u001b[0;32m     12\u001b[0m \u001b[1;32mfrom\u001b[0m \u001b[0msklearn\u001b[0m\u001b[1;33m.\u001b[0m\u001b[0msvm\u001b[0m \u001b[1;32mimport\u001b[0m \u001b[0mSVC\u001b[0m\u001b[1;33m,\u001b[0m \u001b[0mSVR\u001b[0m\u001b[1;33m\u001b[0m\u001b[1;33m\u001b[0m\u001b[0m\n\u001b[1;32m---> 13\u001b[1;33m \u001b[1;32mfrom\u001b[0m \u001b[0msklearn_rvm\u001b[0m \u001b[1;32mimport\u001b[0m \u001b[0mEMRVC\u001b[0m\u001b[1;33m\u001b[0m\u001b[1;33m\u001b[0m\u001b[0m\n\u001b[0m\u001b[0;32m     14\u001b[0m \u001b[1;32mfrom\u001b[0m \u001b[0msklearn_rvm\u001b[0m \u001b[1;32mimport\u001b[0m \u001b[0mEMRVR\u001b[0m\u001b[1;33m\u001b[0m\u001b[1;33m\u001b[0m\u001b[0m\n\u001b[0;32m     15\u001b[0m \u001b[1;32mfrom\u001b[0m \u001b[0msklearn\u001b[0m\u001b[1;33m.\u001b[0m\u001b[0mmultioutput\u001b[0m \u001b[1;32mimport\u001b[0m \u001b[0mMultiOutputRegressor\u001b[0m\u001b[1;33m\u001b[0m\u001b[1;33m\u001b[0m\u001b[0m\n",
      "\u001b[1;31mModuleNotFoundError\u001b[0m: No module named 'sklearn_rvm'"
     ]
    }
   ],
   "source": [
    "import pandas as pd\n",
    "import numpy as np\n",
    "import matplotlib.pyplot as plt\n",
    "import datetime\n",
    "from datetime import timedelta\n",
    "from scipy.spatial import distance\n",
    "from scipy.stats import pearsonr\n",
    "import math\n",
    "\n",
    "import os\n",
    "from sklearn.linear_model import LinearRegression\n",
    "from sklearn.svm import SVC, SVR\n",
    "from sklearn_rvm import EMRVC\n",
    "from sklearn_rvm import EMRVR\n",
    "from sklearn.multioutput import MultiOutputRegressor\n",
    "from sklearn.preprocessing import MinMaxScaler\n",
    "import xgboost as xgb\n",
    "import lightgbm as lgb"
   ]
  },
  {
   "cell_type": "code",
   "execution_count": null,
   "id": "658d1ea8",
   "metadata": {
    "ExecuteTime": {
     "end_time": "2022-08-14T19:28:27.032621Z",
     "start_time": "2022-08-14T19:28:21.862065Z"
    },
    "scrolled": true
   },
   "outputs": [],
   "source": [
    "conda list"
   ]
  },
  {
   "cell_type": "markdown",
   "id": "c09fab4e",
   "metadata": {},
   "source": [
    "線性插植的方法在用電量暫未用到"
   ]
  },
  {
   "cell_type": "code",
   "execution_count": null,
   "id": "a7c323ef",
   "metadata": {
    "ExecuteTime": {
     "end_time": "2022-08-14T19:28:27.063864Z",
     "start_time": "2022-08-14T19:28:27.032621Z"
    }
   },
   "outputs": [],
   "source": [
    "# linear interpolation(線性插值)\n",
    "from scipy.interpolate import interp1d\n",
    "def interpolate(x, kind='linear'):\n",
    "    not_nan = np.logical_not(np.isnan(x))\n",
    "    indices = np.arange(len(x))\n",
    "#     interp = interp1d(indices[not_nan], x[not_nan], kind=kind)\n",
    "    interp = interp1d(indices[not_nan], x[not_nan], kind=kind,fill_value=\"extrapolate\")\n",
    "    return interp(indices) "
   ]
  },
  {
   "cell_type": "markdown",
   "id": "28bba31d",
   "metadata": {},
   "source": [
    "評估指標 nMAPE、nMAE、nRMSE"
   ]
  },
  {
   "cell_type": "code",
   "execution_count": null,
   "id": "d0685edb",
   "metadata": {
    "ExecuteTime": {
     "end_time": "2022-08-14T19:28:27.095107Z",
     "start_time": "2022-08-14T19:28:27.063864Z"
    }
   },
   "outputs": [],
   "source": [
    "# 評估績效\n",
    "def MAPE(y_true, y_pred):\n",
    "    y_true, y_pred = np.array(y_true), np.array(y_pred)\n",
    "    return np.mean(np.abs((y_true - y_pred) / y_true)) * 100\n",
    "\n",
    "def nMAE(y_true, y_pred):\n",
    "    y_true, y_pred = np.array(y_true), np.array(y_pred)\n",
    "    return np.mean(np.abs(y_true - y_pred))/y_true.mean() * 100\n",
    "\n",
    "def RMSE(y_true, y_pred):\n",
    "    y_true, y_pred = np.array(y_true), np.array(y_pred)\n",
    "    return np.sqrt(((y_pred - y_true) ** 2).mean())"
   ]
  },
  {
   "cell_type": "markdown",
   "id": "de55bcf8",
   "metadata": {},
   "source": [
    "最大最小值正規化"
   ]
  },
  {
   "cell_type": "code",
   "execution_count": null,
   "id": "ff091dfc",
   "metadata": {
    "ExecuteTime": {
     "end_time": "2022-08-14T19:28:27.110773Z",
     "start_time": "2022-08-14T19:28:27.095107Z"
    }
   },
   "outputs": [],
   "source": [
    "#正規化\n",
    "def data_normalize(merge, need_normalize, test_split_date):\n",
    "    data = merge.copy()\n",
    "    train_data = data[pd.to_datetime(data['Date'])<test_split_date]\n",
    "    #使用最大最小值進行標準化\n",
    "    for i in range(len(need_normalize)):\n",
    "        column = need_normalize[i]\n",
    "        molecular = data[column]-train_data[column].min()\n",
    "        denominator = train_data[column].max()-train_data[column].min()\n",
    "        data[column] = (molecular/denominator)\n",
    "    return data"
   ]
  },
  {
   "cell_type": "code",
   "execution_count": null,
   "id": "c66cfe89",
   "metadata": {},
   "outputs": [],
   "source": []
  },
  {
   "cell_type": "code",
   "execution_count": null,
   "id": "a52edd15",
   "metadata": {
    "ExecuteTime": {
     "end_time": "2022-08-14T19:28:27.126348Z",
     "start_time": "2022-08-14T19:28:27.110773Z"
    }
   },
   "outputs": [],
   "source": [
    "# 設置輸入特徵\n",
    "def set_input(target_day, target_inps):\n",
    "\n",
    "# target_day: 預測天的資料(D+1)\n",
    "# target_inps: 預測天輸入的特徵值(D+1)\n",
    "\n",
    "#print(few_day[few_inps[0]].values)\n",
    "# 設置歷史資料輸入特徵\n",
    "# 設置預測天資料輸入特徵\n",
    "    if len(target_inps)>1:\n",
    "        target_features = np.concatenate((\n",
    "                            [target_day[target_inps[fea]].values for fea in range(len(target_inps))]\n",
    "                        ))\n",
    "    elif len(target_inps)==1:\n",
    "        target_features = target_day[target_inps[0]].values\n",
    "#     inputs = hourly_attribute\n",
    "#     return inputs\n",
    "    return target_features\n",
    "\n",
    "# 設置輸出特徵\n",
    "def set_output(target_day):\n",
    "    output = target_day['power'].values\n",
    "    return output\n",
    "\n",
    "# 設置預測天資訊\n",
    "def set_idx(target_day):\n",
    "    idx = {\n",
    "#             'TIME_TO_INTERVAL': target_day_time['TIME_TO_INTERVAL'].tolist()[2],\n",
    "        'TIME_TO_INTERVAL': target_day['TIME_TO_INTERVAL'].tolist()[0],\n",
    "        'power': target_day['power'].tolist()[0],\n",
    "        'isholiday' : target_day['isholiday'].tolist()[0],\n",
    "#         'dayOfYear_t': target_day['dayOfYear_t'].tolist()[0],\n",
    "    }\n",
    "    return idx"
   ]
  },
  {
   "cell_type": "markdown",
   "id": "047f1de0",
   "metadata": {},
   "source": [
    "模型的選擇:XGB、LGB、SVR、RVM"
   ]
  },
  {
   "cell_type": "code",
   "execution_count": null,
   "id": "41f230d4",
   "metadata": {
    "ExecuteTime": {
     "end_time": "2022-08-14T19:28:27.142064Z",
     "start_time": "2022-08-14T19:28:27.126348Z"
    }
   },
   "outputs": [],
   "source": [
    "def model_build(train_x, train_y, train_idx, test_x, test_y, test_idx, model_name):\n",
    "    #模型訓練\n",
    "    if model_name == 'xgb':\n",
    "        model = xgb.XGBRegressor(objective='reg:squarederror',\n",
    "                        learning_rate=0.01, \n",
    "                        max_depth=1,\n",
    "                        colsample_bytree=0.1,\n",
    "                        reg_lambda=0.01,\n",
    "                        seed=1,\n",
    "                        subsample=0.1,\n",
    "                        min_child_weight=1,\n",
    "                        n_estimators=4000).fit(train_x, train_y)\n",
    "    elif model_name == 'lgb':\n",
    "        model = lgb.LGBMRegressor(\n",
    "               boosting_type='gbdt',\n",
    "                     verbose = 0,\n",
    "                     learning_rate = 0.01,\n",
    "                     num_leaves = 35,\n",
    "                     feature_fraction=0.8,\n",
    "                     bagging_fraction= 0.9,\n",
    "                     bagging_freq= 8,\n",
    "                     lambda_l1= 0.6,\n",
    "                     lambda_l2= 0).fit(train_x, train_y)\n",
    "    elif model_name == 'svr':\n",
    "        model = SVR(C=1, kernel=\"rbf\", gamma='auto').fit(train_x, train_y)\n",
    "    elif model_name == 'rvm':\n",
    "        model = EMRVR(kernel=\"rbf\", gamma='auto')\n",
    "        model.fit(train_x, train_y)\n",
    "    elif model_name == 'persistence':\n",
    "        test_y = test_y * (target_max - target_min) + target_min\n",
    "        pred_y = pred_y * (target_max - target_min) + target_min\n",
    "        test_idx['pred'] = test_x\n",
    "        test_idx['true'] = test_y\n",
    "        return test_idx\n",
    "\n",
    "\n",
    "\n",
    "#     other_params = {'learning_rate': 0.1, 'n_estimators': 500, 'max_depth': 5, 'min_child_weight': 1, 'seed': 0,\n",
    "#     'subsample': 0.8, 'colsample_bytree': 0.8, 'gamma': 0, 'reg_alpha': 0, 'reg_lambda': 1}\n",
    "#     model = xgb.XGBRegressor(**other_params).fit(train_x, train_y)\n",
    "\n",
    "# 預測\n",
    "    pred_y = model.predict(test_x)\n",
    "    \n",
    "# 反正規劃\n",
    "    test_y = test_y * (target_max - target_min) + target_min\n",
    "    pred_y = pred_y * (target_max - target_min) + target_min\n",
    "    test_idx['pred'] = pred_y\n",
    "    test_idx['true'] = test_y\n",
    "    return test_idx"
   ]
  },
  {
   "cell_type": "markdown",
   "id": "c72cfdbf",
   "metadata": {},
   "source": [
    "計算結果(nMAPE、nRMSE、nMAE)並印出結果"
   ]
  },
  {
   "cell_type": "code",
   "execution_count": null,
   "id": "843867f9",
   "metadata": {
    "ExecuteTime": {
     "end_time": "2022-08-14T19:28:27.157589Z",
     "start_time": "2022-08-14T19:28:27.142064Z"
    }
   },
   "outputs": [],
   "source": [
    "def performance(preds, columns):\n",
    "    mape, rmse, mae =  [], [], []\n",
    "    euclidean, pear =  [], []\n",
    "    for i in preds:\n",
    "        pred = preds[i].dropna()\n",
    "        mape.append(round(MAPE(pred['true'], pred[f'pred']),2))\n",
    "        rmse.append(round(RMSE(pred['true'], pred[f'pred']),2))\n",
    "        mae.append(round(nMAE(pred['true'], pred[f'pred']),2))\n",
    "#     #歐氏距離越大，兩個用戶相似度就越小\n",
    "#     euclidean.append(round(distance.euclidean(pred['true'], pred[f'pred']),2))\n",
    "#     pear.append(round(pearsonr(pred['true'], pred[f'pred'])[0],2))\n",
    "    \n",
    "    pred_result = pd.DataFrame({'feature': columns,\n",
    "              'P(RMSE)': rmse, 'P(MAPE)': mape, 'P(MAE)': mae, \n",
    "#                         'euclidean':euclidean, 'pearsonr': pear,\n",
    "#               'P(RMSE)': rmse, 'P(MAPE)': mape, 'P(MAE)': mae,\n",
    "             })\n",
    "    return pred_result\n"
   ]
  },
  {
   "cell_type": "code",
   "execution_count": null,
   "id": "c82978e0",
   "metadata": {
    "ExecuteTime": {
     "end_time": "2022-08-14T19:28:27.173312Z",
     "start_time": "2022-08-14T19:28:27.157589Z"
    }
   },
   "outputs": [],
   "source": [
    "#設定輸出大小，以查看全部資料\n",
    "pd.set_option('display.max_columns',None)\n",
    "pd.set_option('display.max_rows',None)\n",
    "pd.set_option('max_colwidth',100)"
   ]
  },
  {
   "cell_type": "markdown",
   "id": "02039463",
   "metadata": {},
   "source": [
    "提取每筆資料的提前一小時的資料"
   ]
  },
  {
   "cell_type": "code",
   "execution_count": null,
   "id": "41dceb96",
   "metadata": {},
   "outputs": [],
   "source": [
    "#     取提前一小時的資料\n",
    "def pre_hour(merge, rows,few, few_hour):\n",
    "    data_merge = merge.copy()\n",
    "    data,datas = pd.DataFrame(), pd.DataFrame()\n",
    "    if rows['Hour'].values == 0 :\n",
    "        for h in few_hour:\n",
    "            day = rows['Date']-timedelta(days=few[0]+1)\n",
    "            data = data_merge[data_merge['Date'].isin(day)]\n",
    "            data = data[data['Hour'].isin([23-h])]\n",
    "            datas = pd.concat([datas,data],axis=0)\n",
    "    else:\n",
    "        for h in few_hour:\n",
    "            if (rows['Hour']-(h+1)).values>=0:\n",
    "                day = rows['Date']-timedelta(days=few[0])\n",
    "                data = data_merge[data_merge['Date'].isin(day)]\n",
    "                data = data[data['Hour'].isin(rows['Hour']-(h+1))]\n",
    "                datas = pd.concat([datas,data],axis=0)\n",
    "\n",
    "            else:\n",
    "    #                     print(row['Hour_'])\n",
    "    #                     print((row['Hour_']-(h+1)).values)\n",
    "                day = rows['Date']-timedelta(days=few[0]+1)\n",
    "                data = data_merge[data_merge['Date'].isin(day)]\n",
    "                data = data[data['Hour'].isin([23+(rows['Hour']-(h+1))[0]])]\n",
    "                datas = pd.concat([datas,data],axis=0)\n",
    "    return datas\n"
   ]
  },
  {
   "cell_type": "markdown",
   "id": "0505ce07",
   "metadata": {},
   "source": [
    "# 正式開始"
   ]
  },
  {
   "cell_type": "markdown",
   "id": "3dbd9141",
   "metadata": {},
   "source": [
    "# 特徵選擇"
   ]
  },
  {
   "cell_type": "code",
   "execution_count": null,
   "id": "44fcab00",
   "metadata": {
    "ExecuteTime": {
     "end_time": "2022-08-14T19:28:27.188878Z",
     "start_time": "2022-08-14T19:28:27.173312Z"
    }
   },
   "outputs": [],
   "source": [
    "Hour = ['Hour_0.0', 'Hour_1.0', 'Hour_2.0', 'Hour_3.0', 'Hour_4.0', 'Hour_5.0',\n",
    "       'Hour_6.0', 'Hour_7.0', 'Hour_8.0', 'Hour_9.0', 'Hour_10.0',\n",
    "       'Hour_11.0', 'Hour_12.0', 'Hour_13.0', 'Hour_14.0', 'Hour_15.0',\n",
    "       'Hour_16.0', 'Hour_17.0', 'Hour_18.0', 'Hour_19.0', 'Hour_20.0',\n",
    "       'Hour_21.0', 'Hour_22.0', 'Hour_23.0']\n",
    "\n",
    "Dayofweek = ['Dayofweek_0.0', 'Dayofweek_1.0', 'Dayofweek_2.0', 'Dayofweek_3.0',\n",
    "       'Dayofweek_4.0', 'Dayofweek_5.0', 'Dayofweek_6.0']\n",
    "\n",
    "Isholiday = ['Isholiday_0', 'Isholiday_1']\n",
    "\n",
    "#few_input=['power']\n",
    "#target_input=['feel_temp']\n",
    "# 全部\n",
    "# target_input_2=['Hour', 'dayofweek', 'isholiday','feel_temp','RH','pre_day_1','pre_day_7','pre_day_1_7_2','pre_day_1_7_3','pre_day_1_7_H','pre_similarity','next_similarity']\n",
    "# target_input_2=[ 'isholiday','feel_temp','RH','pre_day_7','pre_day_1_7_3','pre_day_1_7_H']\n",
    "target_input_2=[ 'Hour']\n",
    "# target_input_2=['pre_day_1','pre_day_7','pre_day_1_7_2','pre_day_1_7_3','pre_day_1_7_H']\n",
    "# target_input=['Hour', 'dayofweek', 'isholiday']\n",
    "# neet_normalize = ['power', 'Hour', 'Month', 'Weekday', 'dayofweek', 'quarter', 'isholiday', 'temp', 'temp8', 'temp(cwb)']\n",
    "\n",
    "# neet_normalize = ['power', 'Hour', 'Month', 'dayofweek', 'quarter', 'isholiday', 'temp(ncue)', 'temp(cwb)']\n",
    "# neet_normalize = ['power', 'Hour', 'Month', 'dayofweek', 'quarter', 'isholiday', 'temp(cwb)']\n",
    "neet_normalize = ['power', 'Hour', 'dayofweek','feel_temp','RH','pre_day_1','pre_day_7','pre_day_1_7_2','pre_day_1_7_3','pre_day_1_7_H','pre_similarity','next_similarity']\n",
    "# neet_normalize = ['power','pre_power_1','Hour', 'dayofweek','feel_temp','RH','pre_day_1','pre_day_7','pre_day_1_7_2','pre_day_1_7_3','pre_day_1_7_H','pre_similarity','next_similarity']\n",
    "# few_days_list = [1]\n",
    "#提前幾天，0表示當天\n",
    "few_days_list = [0]\n",
    "#0表示提前一小時few_hour_list =[0]\n",
    "few_hour_list = [0]"
   ]
  },
  {
   "cell_type": "code",
   "execution_count": null,
   "id": "c224be25",
   "metadata": {
    "ExecuteTime": {
     "end_time": "2022-08-14T19:29:11.299446Z",
     "start_time": "2022-08-14T19:28:27.188878Z"
    },
    "scrolled": true
   },
   "outputs": [],
   "source": [
    "# data_name = ['力行館(temp).csv', '工學院(temp).csv', '教學一錧(temp).csv', '管理學院經世館(temp).csv', \n",
    "#               '第九宿舍(temp).csv', '第十宿舍(temp).csv', \n",
    "#               '汙水處理廠(temp).csv', '總變電站(temp).csv', '育成中心(temp).csv']\n",
    "data_name = ['力行館(temp).csv']\n",
    "test_split_date = pd.to_datetime('2022-05-01')\n",
    "for target in target_input_2:\n",
    "    log_datas = {}\n",
    "    target_input = ['pre_power_1']\n",
    "    target_input.append(target)\n",
    "    for name in data_name:\n",
    "        test_x, test_y, test_idx = [],[],[]\n",
    "        train_x, train_y, train_idx = [],[],[]\n",
    "        merge = pd.read_csv(f'C:/Users/idsl/用電量/宇任/Dataset/重鈞merge/{name}')\n",
    "        data = merge.copy()\n",
    "        \n",
    "        #         新增欄位提前一小時欄位\n",
    "        data['Date'] = pd.to_datetime(data['TIME_TO_INTERVAL']).dt.date\n",
    "        for i in range(len(data)):\n",
    "            target_day = data.loc[i:i].reset_index(drop=True)\n",
    "            temp = pre_hour(data,target_day,few_days_list,few_hour_list).reset_index()\n",
    "            if temp.empty != True:\n",
    "                data.loc[i:i,'pre_power_1'] = temp.loc[0:0]['power'].values[0]\n",
    "            else:\n",
    "                data.loc[i:i,'pre_power_1'] = math.nan\n",
    "        data = data.dropna().reset_index(drop=True)\n",
    "        #         新增欄位提前一小時欄位\n",
    "\n",
    "#       切割訓練資料\n",
    "        train_data = data[pd.to_datetime(data['Date'])<test_split_date]\n",
    "#       儲存訓練資料中的最大最小值，必須透過該最大最小值進行反正規化\n",
    "        target_min, target_max = train_data['power'].min(), train_data['power'].max()\n",
    "#       最大最小值正規化\n",
    "        data = data_normalize(data, neet_normalize,test_split_date)\n",
    "        \n",
    "        for i in range(len(data)):\n",
    "            target_day = data.loc[i:i].reset_index(drop=True)\n",
    "#             print(target_day)\n",
    "            target_day['TIME_TO_INTERVAL'] = pd.to_datetime(target_day['TIME_TO_INTERVAL'])\n",
    "            is_test_data = (target_day['TIME_TO_INTERVAL']>=test_split_date).values[0]\n",
    "            inputs = set_input(target_day, target_input)\n",
    "            output = set_output(target_day)\n",
    "            idx = set_idx(target_day)\n",
    "            if is_test_data:\n",
    "                test_x.append(inputs)\n",
    "                test_y.append(output)\n",
    "                test_idx.append(idx)\n",
    "            else:\n",
    "                train_x.append(inputs)\n",
    "                train_y.append(output)\n",
    "                train_idx.append(idx)\n",
    "\n",
    "        train_x = np.array(train_x)\n",
    "        test_x = np.array(test_x)\n",
    "        train_y = np.array(train_y)\n",
    "        test_y = np.array(test_y)\n",
    "        train_idx, test_idx = pd.DataFrame(train_idx), pd.DataFrame(test_idx)   \n",
    "        #pred = model_build(train_x, train_y, train_idx, test_x, test_y, test_idx, 'persistence')\n",
    "        #pred = model_build(train_x, train_y, train_idx, test_x, test_y, test_idx, 'svr')\n",
    "#         pred = model_build(train_x, train_y, train_idx, test_x, test_y, test_idx, 'rvm')\n",
    "        pred = model_build(train_x, train_y, train_idx, test_x, test_y, test_idx, 'xgb')\n",
    "        #pred = model_build(train_x, train_y, train_idx, test_x, test_y, test_idx, 'lgb')\n",
    "\n",
    "        print(f'train: {len(train_idx)}, test: {len(test_idx)}')\n",
    "        log_datas[name[:-4]] = pred\n",
    "    result = performance(log_datas, data_name)\n",
    "    print(result)\n"
   ]
  },
  {
   "cell_type": "code",
   "execution_count": null,
   "id": "fcb28b18",
   "metadata": {},
   "outputs": [],
   "source": [
    "train_idx"
   ]
  },
  {
   "cell_type": "code",
   "execution_count": null,
   "id": "72226ef3",
   "metadata": {},
   "outputs": [],
   "source": [
    "#繪圖工具\n",
    "import plotly.graph_objects as go\n",
    "import matplotlib.dates as md\n",
    "line_color = [\n",
    "    '#1f77b4',  # muted blue\n",
    "    '#ff7f0e',  # safety orange\n",
    "    '#2ca02c',  # cooked asparagus green\n",
    "    '#d62728',  # brick red\n",
    "    '#9467bd',  # muted purple\n",
    "    '#8c564b',  # chestnut brown\n",
    "    '#e377c2',  # raspberry yogurt pink\n",
    "    '#7f7f7f',  # middle gray\n",
    "    '#bcbd22',  # curry yellow-green\n",
    "    '#17becf'   # blue-teal\n",
    "]\n",
    "\n",
    "\n",
    "xtick = int(len(pred['TIME_TO_INTERVAL'])/24)\n",
    "\n",
    "fig_line = go.Figure()\n",
    "fig_line.add_trace(go.Scatter(y = pred['true'], x=pred['TIME_TO_INTERVAL'],\n",
    "                    mode='lines',\n",
    "                    name='真實值',\n",
    "                    line={'dash': 'dash'},\n",
    "                    line_color= '#1f77b4'))\n",
    "fig_line.add_trace(go.Scatter(y = pred['pred'], x=pred['TIME_TO_INTERVAL'],\n",
    "                    mode='lines',\n",
    "                    name='預測值',\n",
    "                    line_color= '#ff7f0e'))\n",
    "fig_line.update_layout(\n",
    "    yaxis_title='用電量',\n",
    "    xaxis_title='日期',\n",
    "    title='預測結果',\n",
    "    font=dict(\n",
    "        size=18,\n",
    "    ),\n",
    "#     yaxis2=dict(anchor='x', overlaying='y', side='right')\n",
    "    height=450, \n",
    "    width=1500,\n",
    "\n",
    ")\n",
    "\n",
    "fig_line.update_xaxes(nticks=xtick)\n",
    "\n",
    "\n",
    "#     fig_line.write_html(f'{folder_path}/img/{methods}_{i}.html')"
   ]
  },
  {
   "cell_type": "code",
   "execution_count": null,
   "id": "744b9dd1",
   "metadata": {},
   "outputs": [],
   "source": []
  }
 ],
 "metadata": {
  "kernelspec": {
   "display_name": "Python 3",
   "language": "python",
   "name": "python3"
  },
  "language_info": {
   "codemirror_mode": {
    "name": "ipython",
    "version": 3
   },
   "file_extension": ".py",
   "mimetype": "text/x-python",
   "name": "python",
   "nbconvert_exporter": "python",
   "pygments_lexer": "ipython3",
   "version": "3.8.8"
  }
 },
 "nbformat": 4,
 "nbformat_minor": 5
}

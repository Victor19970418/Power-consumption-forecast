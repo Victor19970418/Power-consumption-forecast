{
 "cells": [
  {
   "cell_type": "code",
   "execution_count": 2,
   "id": "f5fff00d",
   "metadata": {
    "ExecuteTime": {
     "end_time": "2022-08-26T12:38:29.253204Z",
     "start_time": "2022-08-26T12:38:29.237526Z"
    }
   },
   "outputs": [],
   "source": [
    "from influxdb import InfluxDBClient\n",
    "import pandas as pd\n",
    "import os\n",
    "import datetime\n",
    "import re\n",
    "import time\n",
    "import numpy as np\n",
    "from datetime import timedelta\n",
    "import joblib"
   ]
  },
  {
   "cell_type": "markdown",
   "id": "2f1836b2",
   "metadata": {},
   "source": [
    "資料前處理"
   ]
  },
  {
   "cell_type": "code",
   "execution_count": 3,
   "id": "77b08615",
   "metadata": {
    "ExecuteTime": {
     "end_time": "2022-08-26T12:38:30.081035Z",
     "start_time": "2022-08-26T12:38:30.065480Z"
    }
   },
   "outputs": [],
   "source": [
    "def power_preprocessing(data):\n",
    "    #將欄位資料從['UpdateTime','kWh']擴充到['UpdateTime','kWh','Hour','Date','power']\n",
    "    data['UpdateTime'] = pd.to_datetime(data['UpdateTime']) \n",
    "    data['Hour'] = data['UpdateTime'].dt.hour\n",
    "    data['minute'] = data['UpdateTime'].dt.minute\n",
    "    data['Date'] = data['UpdateTime'].dt.date\n",
    "    #依據UpdateTime做排序，\n",
    "    data = data.sort_values(by='UpdateTime')\n",
    "    #將小時內重複出現的資料刪除，只保留第一筆，並透過get_hour_power去取得原本用電量計算的區間\n",
    "    get_hour_power = data\n",
    "    get_hour_power = get_hour_power.drop_duplicates(subset=['Date','Hour'], keep=\"first\")\n",
    "    return get_hour_power\n",
    "#     data1['power'] = data1['kWh'].shift(-1) - data1['kWh']\n",
    "\n",
    "#     return data1"
   ]
  },
  {
   "cell_type": "code",
   "execution_count": 4,
   "id": "48c4356f",
   "metadata": {
    "ExecuteTime": {
     "end_time": "2022-08-26T12:38:30.612161Z",
     "start_time": "2022-08-26T12:38:30.596577Z"
    }
   },
   "outputs": [],
   "source": [
    "def group(x):\n",
    "    row = x.copy()\n",
    "    "
   ]
  },
  {
   "cell_type": "code",
   "execution_count": 5,
   "id": "d01a71e9",
   "metadata": {
    "ExecuteTime": {
     "end_time": "2022-08-26T12:38:31.330742Z",
     "start_time": "2022-08-26T12:38:31.299546Z"
    }
   },
   "outputs": [],
   "source": [
    "def power_preprocessing(data):\n",
    "    data = data[pd.to_datetime(data['UpdateTime']) >= pd.to_datetime('2022-01-04')]\n",
    "    data = data[pd.to_datetime(data['UpdateTime']) <= pd.to_datetime('2022-06-08')]\n",
    "    #將欄位資料從['UpdateTime','kWh']擴充到['UpdateTime','kWh','Hour','Date','power']\n",
    "    data['UpdateTime'] = pd.to_datetime(data['UpdateTime']) \n",
    "    data['minute'] = data['UpdateTime'].dt.minute\n",
    "    data['Hour'] = data['UpdateTime'].dt.hour\n",
    "    data['Date'] = data['UpdateTime'].dt.date\n",
    "    #依據UpdateTime做排序，\n",
    "    data = data.sort_values(by='UpdateTime')\n",
    "    #將小時內重複出現的資料刪除，只保留第一筆15001\n",
    "#     data1 = data.drop_duplicates(subset=['Date','Hour','minute'], keep=\"first\").reset_index(drop=True)\n",
    "    #將每小時用電量時間分成4塊(0~15、16~30、31~45、46~60)\n",
    "    data['min_interval'] = data['minute'].map(lambda x: 1 if x<=15 else (2 if x>15 and x<=30 else (3 if x>30 and x<=45 else(4 if x>45 else 0))))\n",
    "    #     同區間只保留第一筆跟最後一筆\n",
    "    first = data.drop_duplicates(subset=['Date','Hour','min_interval'], keep=\"first\").reset_index(drop=True)\n",
    "    mask = (first['min_interval'] == 1)\n",
    "    first = first[mask]\n",
    "    last = data.drop_duplicates(subset=['Date','Hour','min_interval'], keep=\"last\").reset_index(drop=True)\n",
    "    last2 = data.drop_duplicates(subset=['Date','Hour','min_interval'], keep=\"last\").reset_index(drop=True)\n",
    "    last3 = last2[last2['min_interval'] == 4]\n",
    "    last2 = last2.drop(last3.index)\n",
    "    print(last2,'1231321')\n",
    "#     last2.drop(last2[ last2['minute']== 59 ].index, inplace=True) #在原数据上进行删除\n",
    "#     last2.drop(last2[ last2['minute']== 58 ].index, inplace=True) #在原数据上进行删除\n",
    "    # print(last2.head(10))\n",
    "    answer = pd.concat([first,last,last2],axis=0)\n",
    "    answer = answer.sort_values(by=['UpdateTime']).reset_index(drop=True)\n",
    "    answer.to_csv(f'./Dataset/answer.csv')\n",
    "    answer['group'] = answer.apply(lambda x:group(x))\n",
    "    print(answer.head(30),'----------------------')\n",
    "    column= ['Date','Hour','minute']\n",
    "    answer = answer.sort_values(by=column)\n",
    "#     根據Hour、Date判斷是否該日期下該小時有八筆資料\n",
    "    store_date=[]\n",
    "    store_hour=[]\n",
    "    for i in tqdm(range(len(answer[['Hour','Date']].value_counts()))):\n",
    "        if(answer[['Hour','Date']].value_counts().iloc[i]!=8):\n",
    "            store_date.append(answer[['Hour','Date']].value_counts()[i:].rename_axis(['Hour','Date']).reset_index(name='counts')['Date'])\n",
    "            store_hour.append(answer[['Hour','Date']].value_counts()[i:].rename_axis(['Hour','Date']).reset_index(name='counts')['Hour'])\n",
    "#     根據找到在該日期該小時下沒有八筆的資料\n",
    "    for i in range(len(store_hour)):\n",
    "        answer.drop(answer.loc[(answer['Date']==store_date[i].values[0]) & (answer['Hour']==store_hour[i].values[0])].index, inplace=True)\n",
    "#     刪除後重新排序\n",
    "    answer.sort_values(by=['UpdateTime'],inplace=True)\n",
    "    answer.reset_index(drop=True,inplace=True)\n",
    "#     給予新的欄位必須是浮點數才能先減，因為原先資料本身就是浮點數\n",
    "    answer['Power']=0.0\n",
    "#     用一個新的dataframe來存最終的資料\n",
    "    final_data = pd.DataFrame()\n",
    "    for i in tqdm(range(0,len(answer),2)):\n",
    "        answer['Power'][i+1]=answer['kWh'][i+1]-answer['kWh'][i]\n",
    "        final_data=final_data.append(answer[i+1:i+2],ignore_index=True)\n",
    "\n",
    "    return final_data\n",
    "#     return answer"
   ]
  },
  {
   "cell_type": "markdown",
   "id": "047d0595",
   "metadata": {
    "ExecuteTime": {
     "end_time": "2022-08-25T07:35:41.451024Z",
     "start_time": "2022-08-25T07:35:41.357190Z"
    }
   },
   "source": [
    "資料彙整"
   ]
  },
  {
   "cell_type": "code",
   "execution_count": 6,
   "id": "c3434e70",
   "metadata": {
    "ExecuteTime": {
     "end_time": "2022-08-26T12:38:33.252858Z",
     "start_time": "2022-08-26T12:38:33.221661Z"
    }
   },
   "outputs": [],
   "source": [
    "from tqdm import tqdm\n",
    "def data_merge():\n",
    "    files = ['building', 'dormitory']\n",
    "    # files = ['dormitory']\n",
    "    # 抓取資料夾裡面的資料，進行合併\n",
    "    for file in files:\n",
    "        for filename in os.listdir(f\"./Dataset/NCUE/history/{file}/\"):\n",
    "            if filename=='merge' or filename=='.ipynb_checkpoints':\n",
    "                continue\n",
    "            merge_data = pd.DataFrame()\n",
    "            for name in os.listdir(f\"./Dataset/NCUE/history/{file}/{filename}\"):\n",
    "                if filename=='merge' or filename=='.ipynb_checkpoints':\n",
    "                    continue\n",
    "                print(name)\n",
    "                if name=='.ipynb_checkpoints':\n",
    "                    continue\n",
    "                data = pd.read_csv(f'./Dataset/NCUE/history/{file}/{filename}/{name}')\n",
    "                if 'kWh+' in data.columns:\n",
    "                    data = data.rename(columns={'kWh+':'kWh'})\n",
    "                data = data[['UpdateTime', 'kWh']]\n",
    "                merge_data = pd.concat([merge_data,data], axis=0, ignore_index=True)\n",
    "            #丟入前處理，並將每棟資料重新存取\n",
    "            merge_data = merge_data.sort_values(by='UpdateTime')\n",
    "            merge_data = power_preprocessing(merge_data)\n",
    "            merge_data = merge_data.rename(columns={'UpdateTime':'TIME_TO_INTERVAL'})\n",
    "            merge_data = merge_data.reset_index(drop=True)\n",
    "            merge_data.to_csv(f'./Dataset/NCUE/history/temp/{filename}.csv', index=False)\n",
    "            \n",
    "    redatadic = {}\n",
    "    for filename in os.listdir(f\"./Dataset/NCUE/history/temp\"):\n",
    "        if (filename[-3:]!='csv'):\n",
    "            continue\n",
    "        r = \"[A-Za-z0-9#&-]\"\n",
    "    #     print(re.sub(r, '', filename[:-4]), filename[:-4])\n",
    "        #re.sub:用於將匹配的字串取代成指定字串\n",
    "        #從新命名\n",
    "        redataname = re.sub(r, '', filename[:-4])\n",
    "        print(filename)\n",
    "\n",
    "        data = pd.read_csv(f'./Dataset/NCUE/history/temp/{filename}')\n",
    "    #     data_nan = grab_breakpoint(data)\n",
    "    #     data = remove_interruption(data_nan,data)\n",
    "\n",
    "        #將同名字的館院資料合併\n",
    "        if redataname not in redatadic.keys():\n",
    "            redatadic[redataname] = data.copy()\n",
    "        else:\n",
    "            redatadic[redataname] = pd.concat([redatadic[redataname], data],axis=0, ignore_index=True)\n",
    "    #             print(redatadic[redataname])\n",
    "\n",
    "\n",
    "    # # redatadics = redatadic.copy()\n",
    "    #\n",
    "    for d in redatadic.keys():\n",
    "        print(d)\n",
    "        #將不同館但同時段的資料合併加總，index重算\n",
    "        redatadic[d] = redatadic[d].groupby(['Date', 'Hour','minute','min_interval']).sum().reset_index()\n",
    "        redatadic[d]['TIME_TO_INTERVAL'] = redatadic[d].apply(lambda x: \"{} {:02d}:{:02d}:00\".format(x['Date'],x['Hour'],x['minute']), axis=1)\n",
    "\n",
    "    for i in redatadic:\n",
    "        redatadic[i].to_csv(f'./Dataset/NCUE/history/merge/{i}.csv', index=False)"
   ]
  },
  {
   "cell_type": "code",
   "execution_count": null,
   "id": "fb46f25b",
   "metadata": {
    "ExecuteTime": {
     "end_time": "2022-08-26T14:50:55.117090Z",
     "start_time": "2022-08-26T12:38:34.205806Z"
    }
   },
   "outputs": [
    {
     "name": "stdout",
     "output_type": "stream",
     "text": [
      "第九宿舍1L1A_第九宿舍1L1A_0.csv\n",
      "第九宿舍1L1A_第九宿舍1L1A_10000.csv\n",
      "第九宿舍1L1A_第九宿舍1L1A_100000.csv\n",
      "第九宿舍1L1A_第九宿舍1L1A_105000.csv\n",
      "第九宿舍1L1A_第九宿舍1L1A_110000.csv\n",
      "第九宿舍1L1A_第九宿舍1L1A_115000.csv\n",
      "第九宿舍1L1A_第九宿舍1L1A_120000.csv\n",
      "第九宿舍1L1A_第九宿舍1L1A_125000.csv\n",
      "第九宿舍1L1A_第九宿舍1L1A_130000.csv\n",
      "第九宿舍1L1A_第九宿舍1L1A_135000.csv\n",
      "第九宿舍1L1A_第九宿舍1L1A_140000.csv\n",
      "第九宿舍1L1A_第九宿舍1L1A_145000.csv\n",
      "第九宿舍1L1A_第九宿舍1L1A_15000.csv\n",
      "第九宿舍1L1A_第九宿舍1L1A_150000.csv\n",
      "第九宿舍1L1A_第九宿舍1L1A_155000.csv\n",
      "第九宿舍1L1A_第九宿舍1L1A_160000.csv\n",
      "第九宿舍1L1A_第九宿舍1L1A_165000.csv\n",
      "第九宿舍1L1A_第九宿舍1L1A_170000.csv\n",
      "第九宿舍1L1A_第九宿舍1L1A_175000.csv\n",
      "第九宿舍1L1A_第九宿舍1L1A_180000.csv\n",
      "第九宿舍1L1A_第九宿舍1L1A_185000.csv\n",
      "第九宿舍1L1A_第九宿舍1L1A_190000.csv\n",
      "第九宿舍1L1A_第九宿舍1L1A_195000.csv\n",
      "第九宿舍1L1A_第九宿舍1L1A_20000.csv\n",
      "第九宿舍1L1A_第九宿舍1L1A_200000.csv\n",
      "第九宿舍1L1A_第九宿舍1L1A_205000.csv\n",
      "第九宿舍1L1A_第九宿舍1L1A_210000.csv\n",
      "第九宿舍1L1A_第九宿舍1L1A_215000.csv\n",
      "第九宿舍1L1A_第九宿舍1L1A_220000.csv\n",
      "第九宿舍1L1A_第九宿舍1L1A_25000.csv\n",
      "第九宿舍1L1A_第九宿舍1L1A_30000.csv\n",
      "第九宿舍1L1A_第九宿舍1L1A_35000.csv\n",
      "第九宿舍1L1A_第九宿舍1L1A_40000.csv\n",
      "第九宿舍1L1A_第九宿舍1L1A_45000.csv\n",
      "第九宿舍1L1A_第九宿舍1L1A_5000.csv\n",
      "第九宿舍1L1A_第九宿舍1L1A_50000.csv\n",
      "第九宿舍1L1A_第九宿舍1L1A_55000.csv\n",
      "第九宿舍1L1A_第九宿舍1L1A_60000.csv\n",
      "第九宿舍1L1A_第九宿舍1L1A_65000.csv\n",
      "第九宿舍1L1A_第九宿舍1L1A_70000.csv\n",
      "第九宿舍1L1A_第九宿舍1L1A_75000.csv\n",
      "第九宿舍1L1A_第九宿舍1L1A_80000.csv\n",
      "第九宿舍1L1A_第九宿舍1L1A_85000.csv\n",
      "第九宿舍1L1A_第九宿舍1L1A_90000.csv\n",
      "第九宿舍1L1A_第九宿舍1L1A_95000.csv\n",
      "               UpdateTime      kWh  minute  Hour        Date  min_interval\n",
      "0     2022-01-04 19:15:54   549.58      15    19  2022-01-04             1\n",
      "1     2022-01-04 19:30:23   550.08      30    19  2022-01-04             2\n",
      "2     2022-01-04 19:45:37   550.66      45    19  2022-01-04             3\n",
      "4     2022-01-04 20:15:22   551.78      15    20  2022-01-04             1\n",
      "5     2022-01-04 20:30:34   552.40      30    20  2022-01-04             2\n",
      "...                   ...      ...     ...   ...         ...           ...\n",
      "14231 2022-06-07 22:30:12  4895.50      30    22  2022-06-07             2\n",
      "14232 2022-06-07 22:45:32  4895.92      45    22  2022-06-07             3\n",
      "14234 2022-06-07 23:14:57  4896.74      14    23  2022-06-07             1\n",
      "14235 2022-06-07 23:30:17  4897.20      30    23  2022-06-07             2\n",
      "14236 2022-06-07 23:45:29  4897.64      45    23  2022-06-07             3\n",
      "\n",
      "[10678 rows x 6 columns] 1231321\n",
      "            UpdateTime     kWh  minute  Hour        Date  min_interval group\n",
      "0  2022-01-04 19:07:33  549.28       7    19  2022-01-04             1   NaN\n",
      "1  2022-01-04 19:15:54  549.58      15    19  2022-01-04             1   NaN\n",
      "2  2022-01-04 19:15:54  549.58      15    19  2022-01-04             1   NaN\n",
      "3  2022-01-04 19:30:23  550.08      30    19  2022-01-04             2   NaN\n",
      "4  2022-01-04 19:30:23  550.08      30    19  2022-01-04             2   NaN\n",
      "5  2022-01-04 19:45:37  550.66      45    19  2022-01-04             3   NaN\n",
      "6  2022-01-04 19:45:37  550.66      45    19  2022-01-04             3   NaN\n",
      "7  2022-01-04 19:59:23  551.14      59    19  2022-01-04             4   NaN\n",
      "8  2022-01-04 20:00:09  551.18       0    20  2022-01-04             1   NaN\n",
      "9  2022-01-04 20:15:22  551.78      15    20  2022-01-04             1   NaN\n",
      "10 2022-01-04 20:15:22  551.78      15    20  2022-01-04             1   NaN\n",
      "11 2022-01-04 20:30:34  552.40      30    20  2022-01-04             2   NaN\n",
      "12 2022-01-04 20:30:34  552.40      30    20  2022-01-04             2   NaN\n",
      "13 2022-01-04 20:45:49  552.98      45    20  2022-01-04             3   NaN\n",
      "14 2022-01-04 20:45:49  552.98      45    20  2022-01-04             3   NaN\n",
      "15 2022-01-04 20:59:30  553.48      59    20  2022-01-04             4   NaN\n",
      "16 2022-01-04 21:00:16  553.52       0    21  2022-01-04             1   NaN\n",
      "17 2022-01-04 21:15:30  554.10      15    21  2022-01-04             1   NaN\n",
      "18 2022-01-04 21:15:30  554.10      15    21  2022-01-04             1   NaN\n",
      "19 2022-01-04 21:30:44  554.74      30    21  2022-01-04             2   NaN\n",
      "20 2022-01-04 21:30:44  554.74      30    21  2022-01-04             2   NaN\n",
      "21 2022-01-04 21:45:59  555.38      45    21  2022-01-04             3   NaN\n",
      "22 2022-01-04 21:45:59  555.38      45    21  2022-01-04             3   NaN\n",
      "23 2022-01-04 21:59:42  556.00      59    21  2022-01-04             4   NaN\n",
      "24 2022-01-04 22:00:27  556.02       0    22  2022-01-04             1   NaN\n",
      "25 2022-01-04 22:15:42  556.72      15    22  2022-01-04             1   NaN\n",
      "26 2022-01-04 22:15:42  556.72      15    22  2022-01-04             1   NaN\n",
      "27 2022-01-04 22:30:57  557.42      30    22  2022-01-04             2   NaN\n",
      "28 2022-01-04 22:30:57  557.42      30    22  2022-01-04             2   NaN\n",
      "29 2022-01-04 22:45:25  558.08      45    22  2022-01-04             3   NaN ----------------------\n"
     ]
    },
    {
     "name": "stderr",
     "output_type": "stream",
     "text": [
      "100%|█████████████████████████████████████████████████████████████████████████████| 3562/3562 [00:22<00:00, 158.53it/s]\n",
      "  0%|                                                                                        | 0/14232 [00:00<?, ?it/s]C:\\Users\\idsl\\anaconda3\\envs\\sister\\lib\\site-packages\\ipykernel_launcher.py:52: SettingWithCopyWarning: \n",
      "A value is trying to be set on a copy of a slice from a DataFrame\n",
      "\n",
      "See the caveats in the documentation: https://pandas.pydata.org/pandas-docs/stable/user_guide/indexing.html#returning-a-view-versus-a-copy\n",
      "100%|███████████████████████████████████████████████████████████████████████████| 14232/14232 [00:47<00:00, 300.37it/s]\n"
     ]
    },
    {
     "name": "stdout",
     "output_type": "stream",
     "text": [
      "第九宿舍1L1B_第九宿舍1L1B_0.csv\n",
      "第九宿舍1L1B_第九宿舍1L1B_10000.csv\n",
      "第九宿舍1L1B_第九宿舍1L1B_100000.csv\n",
      "第九宿舍1L1B_第九宿舍1L1B_105000.csv\n",
      "第九宿舍1L1B_第九宿舍1L1B_110000.csv\n",
      "第九宿舍1L1B_第九宿舍1L1B_115000.csv\n",
      "第九宿舍1L1B_第九宿舍1L1B_120000.csv\n",
      "第九宿舍1L1B_第九宿舍1L1B_125000.csv\n",
      "第九宿舍1L1B_第九宿舍1L1B_130000.csv\n",
      "第九宿舍1L1B_第九宿舍1L1B_135000.csv\n",
      "第九宿舍1L1B_第九宿舍1L1B_140000.csv\n",
      "第九宿舍1L1B_第九宿舍1L1B_145000.csv\n",
      "第九宿舍1L1B_第九宿舍1L1B_15000.csv\n",
      "第九宿舍1L1B_第九宿舍1L1B_150000.csv\n",
      "第九宿舍1L1B_第九宿舍1L1B_155000.csv\n",
      "第九宿舍1L1B_第九宿舍1L1B_160000.csv\n",
      "第九宿舍1L1B_第九宿舍1L1B_165000.csv\n",
      "第九宿舍1L1B_第九宿舍1L1B_170000.csv\n",
      "第九宿舍1L1B_第九宿舍1L1B_175000.csv\n",
      "第九宿舍1L1B_第九宿舍1L1B_180000.csv\n",
      "第九宿舍1L1B_第九宿舍1L1B_185000.csv\n",
      "第九宿舍1L1B_第九宿舍1L1B_190000.csv\n",
      "第九宿舍1L1B_第九宿舍1L1B_195000.csv\n",
      "第九宿舍1L1B_第九宿舍1L1B_20000.csv\n",
      "第九宿舍1L1B_第九宿舍1L1B_200000.csv\n",
      "第九宿舍1L1B_第九宿舍1L1B_205000.csv\n",
      "第九宿舍1L1B_第九宿舍1L1B_210000.csv\n",
      "第九宿舍1L1B_第九宿舍1L1B_215000.csv\n",
      "第九宿舍1L1B_第九宿舍1L1B_220000.csv\n",
      "第九宿舍1L1B_第九宿舍1L1B_225000.csv\n",
      "第九宿舍1L1B_第九宿舍1L1B_230000.csv\n",
      "第九宿舍1L1B_第九宿舍1L1B_25000.csv\n",
      "第九宿舍1L1B_第九宿舍1L1B_30000.csv\n",
      "第九宿舍1L1B_第九宿舍1L1B_35000.csv\n",
      "第九宿舍1L1B_第九宿舍1L1B_40000.csv\n",
      "第九宿舍1L1B_第九宿舍1L1B_45000.csv\n",
      "第九宿舍1L1B_第九宿舍1L1B_5000.csv\n",
      "第九宿舍1L1B_第九宿舍1L1B_50000.csv\n",
      "第九宿舍1L1B_第九宿舍1L1B_55000.csv\n",
      "第九宿舍1L1B_第九宿舍1L1B_60000.csv\n",
      "第九宿舍1L1B_第九宿舍1L1B_65000.csv\n",
      "第九宿舍1L1B_第九宿舍1L1B_70000.csv\n",
      "第九宿舍1L1B_第九宿舍1L1B_75000.csv\n",
      "第九宿舍1L1B_第九宿舍1L1B_80000.csv\n",
      "第九宿舍1L1B_第九宿舍1L1B_85000.csv\n",
      "第九宿舍1L1B_第九宿舍1L1B_90000.csv\n",
      "第九宿舍1L1B_第九宿舍1L1B_95000.csv\n",
      "               UpdateTime       kWh  minute  Hour        Date  min_interval\n",
      "0     2022-01-04 19:15:45   2243.20      15    19  2022-01-04             1\n",
      "1     2022-01-04 19:30:59   2245.00      30    19  2022-01-04             2\n",
      "2     2022-01-04 19:45:28   2246.48      45    19  2022-01-04             3\n",
      "4     2022-01-04 20:15:58   2249.68      15    20  2022-01-04             1\n",
      "5     2022-01-04 20:30:25   2250.60      30    20  2022-01-04             2\n",
      "...                   ...       ...     ...   ...         ...           ...\n",
      "14231 2022-06-07 22:30:02  19293.52      30    22  2022-06-07             2\n",
      "14232 2022-06-07 22:45:20  19294.68      45    22  2022-06-07             3\n",
      "14234 2022-06-07 23:15:54  19296.52      15    23  2022-06-07             1\n",
      "14235 2022-06-07 23:30:05  19297.56      30    23  2022-06-07             2\n",
      "14236 2022-06-07 23:45:19  19298.44      45    23  2022-06-07             3\n",
      "\n",
      "[10678 rows x 6 columns] 1231321\n",
      "            UpdateTime      kWh  minute  Hour        Date  min_interval group\n",
      "0  2022-01-04 19:07:23  2242.28       7    19  2022-01-04             1   NaN\n",
      "1  2022-01-04 19:15:45  2243.20      15    19  2022-01-04             1   NaN\n",
      "2  2022-01-04 19:15:45  2243.20      15    19  2022-01-04             1   NaN\n",
      "3  2022-01-04 19:30:59  2245.00      30    19  2022-01-04             2   NaN\n",
      "4  2022-01-04 19:30:59  2245.00      30    19  2022-01-04             2   NaN\n",
      "5  2022-01-04 19:45:28  2246.48      45    19  2022-01-04             3   NaN\n",
      "6  2022-01-04 19:45:28  2246.48      45    19  2022-01-04             3   NaN\n",
      "7  2022-01-04 19:59:59  2248.16      59    19  2022-01-04             4   NaN\n",
      "8  2022-01-04 20:00:45  2248.24       0    20  2022-01-04             1   NaN\n",
      "9  2022-01-04 20:15:58  2249.68      15    20  2022-01-04             1   NaN\n",
      "10 2022-01-04 20:15:58  2249.68      15    20  2022-01-04             1   NaN\n",
      "11 2022-01-04 20:30:25  2250.60      30    20  2022-01-04             2   NaN\n",
      "12 2022-01-04 20:30:25  2250.60      30    20  2022-01-04             2   NaN\n",
      "13 2022-01-04 20:45:40  2251.52      45    20  2022-01-04             3   NaN\n",
      "14 2022-01-04 20:45:40  2251.52      45    20  2022-01-04             3   NaN\n",
      "15 2022-01-04 20:59:21  2252.36      59    20  2022-01-04             4   NaN\n",
      "16 2022-01-04 21:00:06  2252.40       0    21  2022-01-04             1   NaN\n",
      "17 2022-01-04 21:15:20  2253.24      15    21  2022-01-04             1   NaN\n",
      "18 2022-01-04 21:15:20  2253.24      15    21  2022-01-04             1   NaN\n",
      "19 2022-01-04 21:30:35  2254.16      30    21  2022-01-04             2   NaN\n",
      "20 2022-01-04 21:30:35  2254.16      30    21  2022-01-04             2   NaN\n",
      "21 2022-01-04 21:45:49  2255.08      45    21  2022-01-04             3   NaN\n",
      "22 2022-01-04 21:45:49  2255.08      45    21  2022-01-04             3   NaN\n",
      "23 2022-01-04 21:59:32  2255.80      59    21  2022-01-04             4   NaN\n",
      "24 2022-01-04 22:00:18  2255.84       0    22  2022-01-04             1   NaN\n",
      "25 2022-01-04 22:15:32  2256.84      15    22  2022-01-04             1   NaN\n",
      "26 2022-01-04 22:15:32  2256.84      15    22  2022-01-04             1   NaN\n",
      "27 2022-01-04 22:30:47  2257.68      30    22  2022-01-04             2   NaN\n",
      "28 2022-01-04 22:30:47  2257.68      30    22  2022-01-04             2   NaN\n",
      "29 2022-01-04 22:45:16  2258.56      45    22  2022-01-04             3   NaN ----------------------\n"
     ]
    },
    {
     "name": "stderr",
     "output_type": "stream",
     "text": [
      "100%|█████████████████████████████████████████████████████████████████████████████| 3562/3562 [00:24<00:00, 146.45it/s]\n",
      "  0%|                                                                                        | 0/14232 [00:00<?, ?it/s]C:\\Users\\idsl\\anaconda3\\envs\\sister\\lib\\site-packages\\ipykernel_launcher.py:52: SettingWithCopyWarning: \n",
      "A value is trying to be set on a copy of a slice from a DataFrame\n",
      "\n",
      "See the caveats in the documentation: https://pandas.pydata.org/pandas-docs/stable/user_guide/indexing.html#returning-a-view-versus-a-copy\n",
      " 31%|███████████████████████▎                                                    | 4357/14232 [00:12<00:30, 320.69it/s]"
     ]
    }
   ],
   "source": [
    "data_merge()"
   ]
  },
  {
   "cell_type": "code",
   "execution_count": 1,
   "id": "d57fa9b1",
   "metadata": {
    "ExecuteTime": {
     "end_time": "2022-08-26T12:07:12.719821Z",
     "start_time": "2022-08-26T12:07:12.672857Z"
    }
   },
   "outputs": [
    {
     "ename": "NameError",
     "evalue": "name 'pd' is not defined",
     "output_type": "error",
     "traceback": [
      "\u001b[1;31m---------------------------------------------------------------------------\u001b[0m",
      "\u001b[1;31mNameError\u001b[0m                                 Traceback (most recent call last)",
      "\u001b[1;32m<ipython-input-1-c5d18c5a063b>\u001b[0m in \u001b[0;36m<module>\u001b[1;34m\u001b[0m\n\u001b[1;32m----> 1\u001b[1;33m \u001b[0manswer\u001b[0m \u001b[1;33m=\u001b[0m \u001b[0mpd\u001b[0m\u001b[1;33m.\u001b[0m\u001b[0mread_csv\u001b[0m\u001b[1;33m(\u001b[0m\u001b[1;34mf'./Dataset/answer.csv'\u001b[0m\u001b[1;33m)\u001b[0m\u001b[1;33m\u001b[0m\u001b[1;33m\u001b[0m\u001b[0m\n\u001b[0m\u001b[0;32m      2\u001b[0m \u001b[0manswer\u001b[0m\u001b[1;33m\u001b[0m\u001b[1;33m\u001b[0m\u001b[0m\n",
      "\u001b[1;31mNameError\u001b[0m: name 'pd' is not defined"
     ]
    }
   ],
   "source": [
    "answer = pd.read_csv(f'./Dataset/answer.csv')\n",
    "answer"
   ]
  },
  {
   "cell_type": "code",
   "execution_count": 230,
   "id": "3eebea3f",
   "metadata": {
    "ExecuteTime": {
     "end_time": "2022-08-26T12:07:12.860352Z",
     "start_time": "2022-08-26T12:07:12.844729Z"
    }
   },
   "outputs": [],
   "source": [
    "from tqdm import tqdm"
   ]
  },
  {
   "cell_type": "code",
   "execution_count": 231,
   "id": "f634772d",
   "metadata": {
    "ExecuteTime": {
     "end_time": "2022-08-26T12:07:13.032242Z",
     "start_time": "2022-08-26T12:07:13.016543Z"
    }
   },
   "outputs": [
    {
     "data": {
      "text/plain": [
       "Hour  Date      \n",
       "23    2022-06-06    8\n",
       "7     2022-06-05    8\n",
       "8     2022-01-14    8\n",
       "      2022-01-13    8\n",
       "      2022-01-12    8\n",
       "                   ..\n",
       "15    2022-06-05    8\n",
       "11    2022-02-07    5\n",
       "9     2022-05-11    3\n",
       "19    2022-04-23    3\n",
       "11    2022-05-11    1\n",
       "Length: 3538, dtype: int64"
      ]
     },
     "execution_count": 231,
     "metadata": {},
     "output_type": "execute_result"
    }
   ],
   "source": [
    "answer[['Hour','Date']].value_counts()"
   ]
  },
  {
   "cell_type": "code",
   "execution_count": 232,
   "id": "a898a146",
   "metadata": {
    "ExecuteTime": {
     "end_time": "2022-08-26T12:07:27.562752Z",
     "start_time": "2022-08-26T12:07:13.188399Z"
    }
   },
   "outputs": [
    {
     "name": "stderr",
     "output_type": "stream",
     "text": [
      "100%|█████████████████████████████████████████████████████████████████████████████| 3538/3538 [00:14<00:00, 246.67it/s]\n"
     ]
    }
   ],
   "source": [
    "store_date=[]\n",
    "store_hour=[]\n",
    "\n",
    "for i in tqdm(range(len(answer[['Hour','Date']].value_counts()))):\n",
    "    if(answer[['Hour','Date']].value_counts().iloc[i]!=8):\n",
    "        store_date.append(answer[['Hour','Date']].value_counts()[i:].rename_axis(['Hour','Date']).reset_index(name='counts')['Date'])\n",
    "        store_hour.append(answer[['Hour','Date']].value_counts()[i:].rename_axis(['Hour','Date']).reset_index(name='counts')['Hour'])"
   ]
  },
  {
   "cell_type": "code",
   "execution_count": 233,
   "id": "82bcdfa4",
   "metadata": {
    "ExecuteTime": {
     "end_time": "2022-08-26T12:07:27.578363Z",
     "start_time": "2022-08-26T12:07:27.562752Z"
    }
   },
   "outputs": [
    {
     "name": "stdout",
     "output_type": "stream",
     "text": [
      "2022-02-07\n",
      "2022-05-11\n",
      "2022-04-23\n",
      "2022-05-11\n"
     ]
    }
   ],
   "source": [
    "for i in range(len(store_date)):\n",
    "    print(store_date[i].values[0])"
   ]
  },
  {
   "cell_type": "code",
   "execution_count": 234,
   "id": "a53638c7",
   "metadata": {
    "ExecuteTime": {
     "end_time": "2022-08-26T12:07:27.593919Z",
     "start_time": "2022-08-26T12:07:27.578363Z"
    }
   },
   "outputs": [
    {
     "name": "stdout",
     "output_type": "stream",
     "text": [
      "11\n",
      "9\n",
      "19\n",
      "11\n"
     ]
    }
   ],
   "source": [
    "for i in range(len(store_hour)):\n",
    "    print(store_hour[i].values[0])"
   ]
  },
  {
   "cell_type": "code",
   "execution_count": 235,
   "id": "719e4aff",
   "metadata": {
    "ExecuteTime": {
     "end_time": "2022-08-26T12:07:27.609544Z",
     "start_time": "2022-08-26T12:07:27.593919Z"
    }
   },
   "outputs": [
    {
     "data": {
      "text/plain": [
       "28284"
      ]
     },
     "execution_count": 235,
     "metadata": {},
     "output_type": "execute_result"
    }
   ],
   "source": [
    "len(answer)"
   ]
  },
  {
   "cell_type": "code",
   "execution_count": 236,
   "id": "8e35ed50",
   "metadata": {
    "ExecuteTime": {
     "end_time": "2022-08-26T12:07:27.656474Z",
     "start_time": "2022-08-26T12:07:27.609544Z"
    }
   },
   "outputs": [
    {
     "data": {
      "text/plain": [
       "28272"
      ]
     },
     "execution_count": 236,
     "metadata": {},
     "output_type": "execute_result"
    }
   ],
   "source": [
    "for i in range(len(store_hour)):\n",
    "    answer.drop(answer.loc[(answer['Date']==store_date[i].values[0]) & (answer['Hour']==store_hour[i].values[0])].index, inplace=True)\n",
    "\n",
    "answer.sort_values(by=['UpdateTime'],inplace=True)\n",
    "answer.reset_index(drop=True,inplace=True)\n",
    "len(answer)"
   ]
  },
  {
   "cell_type": "code",
   "execution_count": 253,
   "id": "178b44ab",
   "metadata": {
    "ExecuteTime": {
     "end_time": "2022-08-26T12:09:45.233742Z",
     "start_time": "2022-08-26T12:09:45.218177Z"
    }
   },
   "outputs": [],
   "source": [
    "answer['Power']=0.0"
   ]
  },
  {
   "cell_type": "code",
   "execution_count": 254,
   "id": "131b7a82",
   "metadata": {
    "ExecuteTime": {
     "end_time": "2022-08-26T12:09:45.749245Z",
     "start_time": "2022-08-26T12:09:45.718050Z"
    }
   },
   "outputs": [
    {
     "data": {
      "text/html": [
       "<div>\n",
       "<style scoped>\n",
       "    .dataframe tbody tr th:only-of-type {\n",
       "        vertical-align: middle;\n",
       "    }\n",
       "\n",
       "    .dataframe tbody tr th {\n",
       "        vertical-align: top;\n",
       "    }\n",
       "\n",
       "    .dataframe thead th {\n",
       "        text-align: right;\n",
       "    }\n",
       "</style>\n",
       "<table border=\"1\" class=\"dataframe\">\n",
       "  <thead>\n",
       "    <tr style=\"text-align: right;\">\n",
       "      <th></th>\n",
       "      <th>Unnamed: 0</th>\n",
       "      <th>UpdateTime</th>\n",
       "      <th>kWh</th>\n",
       "      <th>minute</th>\n",
       "      <th>Hour</th>\n",
       "      <th>Date</th>\n",
       "      <th>min_interval</th>\n",
       "      <th>Power</th>\n",
       "    </tr>\n",
       "  </thead>\n",
       "  <tbody>\n",
       "    <tr>\n",
       "      <th>0</th>\n",
       "      <td>0</td>\n",
       "      <td>2022-01-04 19:07:33</td>\n",
       "      <td>549.28</td>\n",
       "      <td>7</td>\n",
       "      <td>19</td>\n",
       "      <td>2022-01-04</td>\n",
       "      <td>1</td>\n",
       "      <td>0.0</td>\n",
       "    </tr>\n",
       "    <tr>\n",
       "      <th>1</th>\n",
       "      <td>1</td>\n",
       "      <td>2022-01-04 19:15:54</td>\n",
       "      <td>549.58</td>\n",
       "      <td>15</td>\n",
       "      <td>19</td>\n",
       "      <td>2022-01-04</td>\n",
       "      <td>1</td>\n",
       "      <td>0.0</td>\n",
       "    </tr>\n",
       "    <tr>\n",
       "      <th>2</th>\n",
       "      <td>2</td>\n",
       "      <td>2022-01-04 19:15:54</td>\n",
       "      <td>549.58</td>\n",
       "      <td>15</td>\n",
       "      <td>19</td>\n",
       "      <td>2022-01-04</td>\n",
       "      <td>1</td>\n",
       "      <td>0.0</td>\n",
       "    </tr>\n",
       "    <tr>\n",
       "      <th>3</th>\n",
       "      <td>3</td>\n",
       "      <td>2022-01-04 19:30:23</td>\n",
       "      <td>550.08</td>\n",
       "      <td>30</td>\n",
       "      <td>19</td>\n",
       "      <td>2022-01-04</td>\n",
       "      <td>2</td>\n",
       "      <td>0.0</td>\n",
       "    </tr>\n",
       "    <tr>\n",
       "      <th>4</th>\n",
       "      <td>4</td>\n",
       "      <td>2022-01-04 19:30:23</td>\n",
       "      <td>550.08</td>\n",
       "      <td>30</td>\n",
       "      <td>19</td>\n",
       "      <td>2022-01-04</td>\n",
       "      <td>2</td>\n",
       "      <td>0.0</td>\n",
       "    </tr>\n",
       "    <tr>\n",
       "      <th>...</th>\n",
       "      <td>...</td>\n",
       "      <td>...</td>\n",
       "      <td>...</td>\n",
       "      <td>...</td>\n",
       "      <td>...</td>\n",
       "      <td>...</td>\n",
       "      <td>...</td>\n",
       "      <td>...</td>\n",
       "    </tr>\n",
       "    <tr>\n",
       "      <th>28267</th>\n",
       "      <td>28279</td>\n",
       "      <td>2022-06-06 23:30:22</td>\n",
       "      <td>4863.22</td>\n",
       "      <td>30</td>\n",
       "      <td>23</td>\n",
       "      <td>2022-06-06</td>\n",
       "      <td>2</td>\n",
       "      <td>0.0</td>\n",
       "    </tr>\n",
       "    <tr>\n",
       "      <th>28268</th>\n",
       "      <td>28280</td>\n",
       "      <td>2022-06-06 23:30:22</td>\n",
       "      <td>4863.22</td>\n",
       "      <td>30</td>\n",
       "      <td>23</td>\n",
       "      <td>2022-06-06</td>\n",
       "      <td>2</td>\n",
       "      <td>0.0</td>\n",
       "    </tr>\n",
       "    <tr>\n",
       "      <th>28269</th>\n",
       "      <td>28282</td>\n",
       "      <td>2022-06-06 23:45:37</td>\n",
       "      <td>4863.60</td>\n",
       "      <td>45</td>\n",
       "      <td>23</td>\n",
       "      <td>2022-06-06</td>\n",
       "      <td>3</td>\n",
       "      <td>0.0</td>\n",
       "    </tr>\n",
       "    <tr>\n",
       "      <th>28270</th>\n",
       "      <td>28281</td>\n",
       "      <td>2022-06-06 23:45:37</td>\n",
       "      <td>4863.60</td>\n",
       "      <td>45</td>\n",
       "      <td>23</td>\n",
       "      <td>2022-06-06</td>\n",
       "      <td>3</td>\n",
       "      <td>0.0</td>\n",
       "    </tr>\n",
       "    <tr>\n",
       "      <th>28271</th>\n",
       "      <td>28283</td>\n",
       "      <td>2022-06-06 23:59:49</td>\n",
       "      <td>4863.98</td>\n",
       "      <td>59</td>\n",
       "      <td>23</td>\n",
       "      <td>2022-06-06</td>\n",
       "      <td>4</td>\n",
       "      <td>0.0</td>\n",
       "    </tr>\n",
       "  </tbody>\n",
       "</table>\n",
       "<p>28272 rows × 8 columns</p>\n",
       "</div>"
      ],
      "text/plain": [
       "       Unnamed: 0           UpdateTime      kWh  minute  Hour        Date  \\\n",
       "0               0  2022-01-04 19:07:33   549.28       7    19  2022-01-04   \n",
       "1               1  2022-01-04 19:15:54   549.58      15    19  2022-01-04   \n",
       "2               2  2022-01-04 19:15:54   549.58      15    19  2022-01-04   \n",
       "3               3  2022-01-04 19:30:23   550.08      30    19  2022-01-04   \n",
       "4               4  2022-01-04 19:30:23   550.08      30    19  2022-01-04   \n",
       "...           ...                  ...      ...     ...   ...         ...   \n",
       "28267       28279  2022-06-06 23:30:22  4863.22      30    23  2022-06-06   \n",
       "28268       28280  2022-06-06 23:30:22  4863.22      30    23  2022-06-06   \n",
       "28269       28282  2022-06-06 23:45:37  4863.60      45    23  2022-06-06   \n",
       "28270       28281  2022-06-06 23:45:37  4863.60      45    23  2022-06-06   \n",
       "28271       28283  2022-06-06 23:59:49  4863.98      59    23  2022-06-06   \n",
       "\n",
       "       min_interval  Power  \n",
       "0                 1    0.0  \n",
       "1                 1    0.0  \n",
       "2                 1    0.0  \n",
       "3                 2    0.0  \n",
       "4                 2    0.0  \n",
       "...             ...    ...  \n",
       "28267             2    0.0  \n",
       "28268             2    0.0  \n",
       "28269             3    0.0  \n",
       "28270             3    0.0  \n",
       "28271             4    0.0  \n",
       "\n",
       "[28272 rows x 8 columns]"
      ]
     },
     "execution_count": 254,
     "metadata": {},
     "output_type": "execute_result"
    }
   ],
   "source": [
    "answer"
   ]
  },
  {
   "cell_type": "code",
   "execution_count": 260,
   "id": "0e1545e7",
   "metadata": {
    "ExecuteTime": {
     "end_time": "2022-08-26T12:19:17.936642Z",
     "start_time": "2022-08-26T12:18:40.330929Z"
    }
   },
   "outputs": [
    {
     "name": "stderr",
     "output_type": "stream",
     "text": [
      "  0%|                                                                                        | 0/14136 [00:00<?, ?it/s]C:\\Users\\idsl\\anaconda3\\envs\\sister\\lib\\site-packages\\ipykernel_launcher.py:3: SettingWithCopyWarning: \n",
      "A value is trying to be set on a copy of a slice from a DataFrame\n",
      "\n",
      "See the caveats in the documentation: https://pandas.pydata.org/pandas-docs/stable/user_guide/indexing.html#returning-a-view-versus-a-copy\n",
      "  This is separate from the ipykernel package so we can avoid doing imports until\n",
      "100%|███████████████████████████████████████████████████████████████████████████| 14136/14136 [00:37<00:00, 376.06it/s]\n"
     ]
    }
   ],
   "source": [
    "data = pd.DataFrame()\n",
    "for i in tqdm(range(0,len(answer),2)):\n",
    "    answer['Power'][i+1]=answer['kWh'][i+1]-answer['kWh'][i]\n",
    "    data=data.append(answer[i+1:i+2],ignore_index=True)"
   ]
  },
  {
   "cell_type": "code",
   "execution_count": 261,
   "id": "2a5712e6",
   "metadata": {
    "ExecuteTime": {
     "end_time": "2022-08-26T12:19:17.952156Z",
     "start_time": "2022-08-26T12:19:17.936642Z"
    }
   },
   "outputs": [
    {
     "data": {
      "text/html": [
       "<div>\n",
       "<style scoped>\n",
       "    .dataframe tbody tr th:only-of-type {\n",
       "        vertical-align: middle;\n",
       "    }\n",
       "\n",
       "    .dataframe tbody tr th {\n",
       "        vertical-align: top;\n",
       "    }\n",
       "\n",
       "    .dataframe thead th {\n",
       "        text-align: right;\n",
       "    }\n",
       "</style>\n",
       "<table border=\"1\" class=\"dataframe\">\n",
       "  <thead>\n",
       "    <tr style=\"text-align: right;\">\n",
       "      <th></th>\n",
       "      <th>Unnamed: 0</th>\n",
       "      <th>UpdateTime</th>\n",
       "      <th>kWh</th>\n",
       "      <th>minute</th>\n",
       "      <th>Hour</th>\n",
       "      <th>Date</th>\n",
       "      <th>min_interval</th>\n",
       "      <th>Power</th>\n",
       "    </tr>\n",
       "  </thead>\n",
       "  <tbody>\n",
       "    <tr>\n",
       "      <th>0</th>\n",
       "      <td>1</td>\n",
       "      <td>2022-01-04 19:15:54</td>\n",
       "      <td>549.58</td>\n",
       "      <td>15</td>\n",
       "      <td>19</td>\n",
       "      <td>2022-01-04</td>\n",
       "      <td>1</td>\n",
       "      <td>0.30</td>\n",
       "    </tr>\n",
       "    <tr>\n",
       "      <th>1</th>\n",
       "      <td>3</td>\n",
       "      <td>2022-01-04 19:30:23</td>\n",
       "      <td>550.08</td>\n",
       "      <td>30</td>\n",
       "      <td>19</td>\n",
       "      <td>2022-01-04</td>\n",
       "      <td>2</td>\n",
       "      <td>0.50</td>\n",
       "    </tr>\n",
       "    <tr>\n",
       "      <th>2</th>\n",
       "      <td>5</td>\n",
       "      <td>2022-01-04 19:45:37</td>\n",
       "      <td>550.66</td>\n",
       "      <td>45</td>\n",
       "      <td>19</td>\n",
       "      <td>2022-01-04</td>\n",
       "      <td>3</td>\n",
       "      <td>0.58</td>\n",
       "    </tr>\n",
       "    <tr>\n",
       "      <th>3</th>\n",
       "      <td>7</td>\n",
       "      <td>2022-01-04 19:59:23</td>\n",
       "      <td>551.14</td>\n",
       "      <td>59</td>\n",
       "      <td>19</td>\n",
       "      <td>2022-01-04</td>\n",
       "      <td>4</td>\n",
       "      <td>0.48</td>\n",
       "    </tr>\n",
       "    <tr>\n",
       "      <th>4</th>\n",
       "      <td>9</td>\n",
       "      <td>2022-01-04 20:15:22</td>\n",
       "      <td>551.78</td>\n",
       "      <td>15</td>\n",
       "      <td>20</td>\n",
       "      <td>2022-01-04</td>\n",
       "      <td>1</td>\n",
       "      <td>0.60</td>\n",
       "    </tr>\n",
       "    <tr>\n",
       "      <th>...</th>\n",
       "      <td>...</td>\n",
       "      <td>...</td>\n",
       "      <td>...</td>\n",
       "      <td>...</td>\n",
       "      <td>...</td>\n",
       "      <td>...</td>\n",
       "      <td>...</td>\n",
       "      <td>...</td>\n",
       "    </tr>\n",
       "    <tr>\n",
       "      <th>14131</th>\n",
       "      <td>28275</td>\n",
       "      <td>2022-06-06 22:59:46</td>\n",
       "      <td>4862.54</td>\n",
       "      <td>59</td>\n",
       "      <td>22</td>\n",
       "      <td>2022-06-06</td>\n",
       "      <td>4</td>\n",
       "      <td>0.34</td>\n",
       "    </tr>\n",
       "    <tr>\n",
       "      <th>14132</th>\n",
       "      <td>28277</td>\n",
       "      <td>2022-06-06 23:15:04</td>\n",
       "      <td>4862.86</td>\n",
       "      <td>15</td>\n",
       "      <td>23</td>\n",
       "      <td>2022-06-06</td>\n",
       "      <td>1</td>\n",
       "      <td>0.30</td>\n",
       "    </tr>\n",
       "    <tr>\n",
       "      <th>14133</th>\n",
       "      <td>28279</td>\n",
       "      <td>2022-06-06 23:30:22</td>\n",
       "      <td>4863.22</td>\n",
       "      <td>30</td>\n",
       "      <td>23</td>\n",
       "      <td>2022-06-06</td>\n",
       "      <td>2</td>\n",
       "      <td>0.36</td>\n",
       "    </tr>\n",
       "    <tr>\n",
       "      <th>14134</th>\n",
       "      <td>28282</td>\n",
       "      <td>2022-06-06 23:45:37</td>\n",
       "      <td>4863.60</td>\n",
       "      <td>45</td>\n",
       "      <td>23</td>\n",
       "      <td>2022-06-06</td>\n",
       "      <td>3</td>\n",
       "      <td>0.38</td>\n",
       "    </tr>\n",
       "    <tr>\n",
       "      <th>14135</th>\n",
       "      <td>28283</td>\n",
       "      <td>2022-06-06 23:59:49</td>\n",
       "      <td>4863.98</td>\n",
       "      <td>59</td>\n",
       "      <td>23</td>\n",
       "      <td>2022-06-06</td>\n",
       "      <td>4</td>\n",
       "      <td>0.38</td>\n",
       "    </tr>\n",
       "  </tbody>\n",
       "</table>\n",
       "<p>14136 rows × 8 columns</p>\n",
       "</div>"
      ],
      "text/plain": [
       "       Unnamed: 0           UpdateTime      kWh  minute  Hour        Date  \\\n",
       "0               1  2022-01-04 19:15:54   549.58      15    19  2022-01-04   \n",
       "1               3  2022-01-04 19:30:23   550.08      30    19  2022-01-04   \n",
       "2               5  2022-01-04 19:45:37   550.66      45    19  2022-01-04   \n",
       "3               7  2022-01-04 19:59:23   551.14      59    19  2022-01-04   \n",
       "4               9  2022-01-04 20:15:22   551.78      15    20  2022-01-04   \n",
       "...           ...                  ...      ...     ...   ...         ...   \n",
       "14131       28275  2022-06-06 22:59:46  4862.54      59    22  2022-06-06   \n",
       "14132       28277  2022-06-06 23:15:04  4862.86      15    23  2022-06-06   \n",
       "14133       28279  2022-06-06 23:30:22  4863.22      30    23  2022-06-06   \n",
       "14134       28282  2022-06-06 23:45:37  4863.60      45    23  2022-06-06   \n",
       "14135       28283  2022-06-06 23:59:49  4863.98      59    23  2022-06-06   \n",
       "\n",
       "       min_interval  Power  \n",
       "0                 1   0.30  \n",
       "1                 2   0.50  \n",
       "2                 3   0.58  \n",
       "3                 4   0.48  \n",
       "4                 1   0.60  \n",
       "...             ...    ...  \n",
       "14131             4   0.34  \n",
       "14132             1   0.30  \n",
       "14133             2   0.36  \n",
       "14134             3   0.38  \n",
       "14135             4   0.38  \n",
       "\n",
       "[14136 rows x 8 columns]"
      ]
     },
     "execution_count": 261,
     "metadata": {},
     "output_type": "execute_result"
    }
   ],
   "source": [
    "data"
   ]
  },
  {
   "cell_type": "code",
   "execution_count": 197,
   "id": "f2716a5d",
   "metadata": {
    "ExecuteTime": {
     "end_time": "2022-08-26T11:48:54.263905Z",
     "start_time": "2022-08-26T11:48:54.248199Z"
    }
   },
   "outputs": [
    {
     "data": {
      "text/plain": [
       "28272"
      ]
     },
     "execution_count": 197,
     "metadata": {},
     "output_type": "execute_result"
    }
   ],
   "source": [
    "len(answer)"
   ]
  },
  {
   "cell_type": "code",
   "execution_count": 196,
   "id": "02734152",
   "metadata": {
    "ExecuteTime": {
     "end_time": "2022-08-26T11:47:33.642226Z",
     "start_time": "2022-08-26T11:47:33.595290Z"
    }
   },
   "outputs": [
    {
     "data": {
      "text/html": [
       "<div>\n",
       "<style scoped>\n",
       "    .dataframe tbody tr th:only-of-type {\n",
       "        vertical-align: middle;\n",
       "    }\n",
       "\n",
       "    .dataframe tbody tr th {\n",
       "        vertical-align: top;\n",
       "    }\n",
       "\n",
       "    .dataframe thead th {\n",
       "        text-align: right;\n",
       "    }\n",
       "</style>\n",
       "<table border=\"1\" class=\"dataframe\">\n",
       "  <thead>\n",
       "    <tr style=\"text-align: right;\">\n",
       "      <th></th>\n",
       "      <th>Unnamed: 0</th>\n",
       "      <th>UpdateTime</th>\n",
       "      <th>kWh</th>\n",
       "      <th>minute</th>\n",
       "      <th>Hour</th>\n",
       "      <th>Date</th>\n",
       "      <th>min_interval</th>\n",
       "    </tr>\n",
       "  </thead>\n",
       "  <tbody>\n",
       "    <tr>\n",
       "      <th>0</th>\n",
       "      <td>0</td>\n",
       "      <td>2022-01-04 19:07:33</td>\n",
       "      <td>549.28</td>\n",
       "      <td>7</td>\n",
       "      <td>19</td>\n",
       "      <td>2022-01-04</td>\n",
       "      <td>1</td>\n",
       "    </tr>\n",
       "    <tr>\n",
       "      <th>1</th>\n",
       "      <td>1</td>\n",
       "      <td>2022-01-04 19:15:54</td>\n",
       "      <td>549.58</td>\n",
       "      <td>15</td>\n",
       "      <td>19</td>\n",
       "      <td>2022-01-04</td>\n",
       "      <td>1</td>\n",
       "    </tr>\n",
       "    <tr>\n",
       "      <th>2</th>\n",
       "      <td>2</td>\n",
       "      <td>2022-01-04 19:15:54</td>\n",
       "      <td>549.58</td>\n",
       "      <td>15</td>\n",
       "      <td>19</td>\n",
       "      <td>2022-01-04</td>\n",
       "      <td>1</td>\n",
       "    </tr>\n",
       "    <tr>\n",
       "      <th>3</th>\n",
       "      <td>3</td>\n",
       "      <td>2022-01-04 19:30:23</td>\n",
       "      <td>550.08</td>\n",
       "      <td>30</td>\n",
       "      <td>19</td>\n",
       "      <td>2022-01-04</td>\n",
       "      <td>2</td>\n",
       "    </tr>\n",
       "    <tr>\n",
       "      <th>4</th>\n",
       "      <td>4</td>\n",
       "      <td>2022-01-04 19:30:23</td>\n",
       "      <td>550.08</td>\n",
       "      <td>30</td>\n",
       "      <td>19</td>\n",
       "      <td>2022-01-04</td>\n",
       "      <td>2</td>\n",
       "    </tr>\n",
       "    <tr>\n",
       "      <th>...</th>\n",
       "      <td>...</td>\n",
       "      <td>...</td>\n",
       "      <td>...</td>\n",
       "      <td>...</td>\n",
       "      <td>...</td>\n",
       "      <td>...</td>\n",
       "      <td>...</td>\n",
       "    </tr>\n",
       "    <tr>\n",
       "      <th>28267</th>\n",
       "      <td>28279</td>\n",
       "      <td>2022-06-06 23:30:22</td>\n",
       "      <td>4863.22</td>\n",
       "      <td>30</td>\n",
       "      <td>23</td>\n",
       "      <td>2022-06-06</td>\n",
       "      <td>2</td>\n",
       "    </tr>\n",
       "    <tr>\n",
       "      <th>28268</th>\n",
       "      <td>28280</td>\n",
       "      <td>2022-06-06 23:30:22</td>\n",
       "      <td>4863.22</td>\n",
       "      <td>30</td>\n",
       "      <td>23</td>\n",
       "      <td>2022-06-06</td>\n",
       "      <td>2</td>\n",
       "    </tr>\n",
       "    <tr>\n",
       "      <th>28270</th>\n",
       "      <td>28282</td>\n",
       "      <td>2022-06-06 23:45:37</td>\n",
       "      <td>4863.60</td>\n",
       "      <td>45</td>\n",
       "      <td>23</td>\n",
       "      <td>2022-06-06</td>\n",
       "      <td>3</td>\n",
       "    </tr>\n",
       "    <tr>\n",
       "      <th>28269</th>\n",
       "      <td>28281</td>\n",
       "      <td>2022-06-06 23:45:37</td>\n",
       "      <td>4863.60</td>\n",
       "      <td>45</td>\n",
       "      <td>23</td>\n",
       "      <td>2022-06-06</td>\n",
       "      <td>3</td>\n",
       "    </tr>\n",
       "    <tr>\n",
       "      <th>28271</th>\n",
       "      <td>28283</td>\n",
       "      <td>2022-06-06 23:59:49</td>\n",
       "      <td>4863.98</td>\n",
       "      <td>59</td>\n",
       "      <td>23</td>\n",
       "      <td>2022-06-06</td>\n",
       "      <td>4</td>\n",
       "    </tr>\n",
       "  </tbody>\n",
       "</table>\n",
       "<p>28272 rows × 7 columns</p>\n",
       "</div>"
      ],
      "text/plain": [
       "       Unnamed: 0           UpdateTime      kWh  minute  Hour        Date  \\\n",
       "0               0  2022-01-04 19:07:33   549.28       7    19  2022-01-04   \n",
       "1               1  2022-01-04 19:15:54   549.58      15    19  2022-01-04   \n",
       "2               2  2022-01-04 19:15:54   549.58      15    19  2022-01-04   \n",
       "3               3  2022-01-04 19:30:23   550.08      30    19  2022-01-04   \n",
       "4               4  2022-01-04 19:30:23   550.08      30    19  2022-01-04   \n",
       "...           ...                  ...      ...     ...   ...         ...   \n",
       "28267       28279  2022-06-06 23:30:22  4863.22      30    23  2022-06-06   \n",
       "28268       28280  2022-06-06 23:30:22  4863.22      30    23  2022-06-06   \n",
       "28270       28282  2022-06-06 23:45:37  4863.60      45    23  2022-06-06   \n",
       "28269       28281  2022-06-06 23:45:37  4863.60      45    23  2022-06-06   \n",
       "28271       28283  2022-06-06 23:59:49  4863.98      59    23  2022-06-06   \n",
       "\n",
       "       min_interval  \n",
       "0                 1  \n",
       "1                 1  \n",
       "2                 1  \n",
       "3                 2  \n",
       "4                 2  \n",
       "...             ...  \n",
       "28267             2  \n",
       "28268             2  \n",
       "28270             3  \n",
       "28269             3  \n",
       "28271             4  \n",
       "\n",
       "[28272 rows x 7 columns]"
      ]
     },
     "execution_count": 196,
     "metadata": {},
     "output_type": "execute_result"
    }
   ],
   "source": []
  },
  {
   "cell_type": "code",
   "execution_count": null,
   "id": "30673166",
   "metadata": {},
   "outputs": [],
   "source": [
    "answer.drop(df[(df['Date']==store_date[0].values[0]].index) and )"
   ]
  },
  {
   "cell_type": "code",
   "execution_count": 147,
   "id": "c2d07839",
   "metadata": {
    "ExecuteTime": {
     "end_time": "2022-08-26T11:31:38.688451Z",
     "start_time": "2022-08-26T11:31:38.657220Z"
    }
   },
   "outputs": [
    {
     "ename": "KeyError",
     "evalue": "'[False False False ... False False False] not found in axis'",
     "output_type": "error",
     "traceback": [
      "\u001b[1;31m---------------------------------------------------------------------------\u001b[0m",
      "\u001b[1;31mKeyError\u001b[0m                                  Traceback (most recent call last)",
      "\u001b[1;32m<ipython-input-147-93c188a26a06>\u001b[0m in \u001b[0;36m<module>\u001b[1;34m\u001b[0m\n\u001b[1;32m----> 1\u001b[1;33m \u001b[0manswer\u001b[0m\u001b[1;33m.\u001b[0m\u001b[0mdrop\u001b[0m\u001b[1;33m(\u001b[0m\u001b[0manswer\u001b[0m\u001b[1;33m[\u001b[0m\u001b[1;34m'Date'\u001b[0m\u001b[1;33m]\u001b[0m\u001b[1;33m==\u001b[0m\u001b[0mstore_date\u001b[0m\u001b[1;33m[\u001b[0m\u001b[1;36m0\u001b[0m\u001b[1;33m]\u001b[0m\u001b[1;33m.\u001b[0m\u001b[0mvalues\u001b[0m\u001b[1;33m[\u001b[0m\u001b[1;36m0\u001b[0m\u001b[1;33m]\u001b[0m\u001b[1;33m.\u001b[0m\u001b[0mindex\u001b[0m\u001b[1;33m)\u001b[0m\u001b[1;33m\u001b[0m\u001b[1;33m\u001b[0m\u001b[0m\n\u001b[0m",
      "\u001b[1;32m~\\anaconda3\\envs\\sister\\lib\\site-packages\\pandas\\core\\frame.py\u001b[0m in \u001b[0;36mdrop\u001b[1;34m(self, labels, axis, index, columns, level, inplace, errors)\u001b[0m\n\u001b[0;32m   4172\u001b[0m             \u001b[0mlevel\u001b[0m\u001b[1;33m=\u001b[0m\u001b[0mlevel\u001b[0m\u001b[1;33m,\u001b[0m\u001b[1;33m\u001b[0m\u001b[1;33m\u001b[0m\u001b[0m\n\u001b[0;32m   4173\u001b[0m             \u001b[0minplace\u001b[0m\u001b[1;33m=\u001b[0m\u001b[0minplace\u001b[0m\u001b[1;33m,\u001b[0m\u001b[1;33m\u001b[0m\u001b[1;33m\u001b[0m\u001b[0m\n\u001b[1;32m-> 4174\u001b[1;33m             \u001b[0merrors\u001b[0m\u001b[1;33m=\u001b[0m\u001b[0merrors\u001b[0m\u001b[1;33m,\u001b[0m\u001b[1;33m\u001b[0m\u001b[1;33m\u001b[0m\u001b[0m\n\u001b[0m\u001b[0;32m   4175\u001b[0m         )\n\u001b[0;32m   4176\u001b[0m \u001b[1;33m\u001b[0m\u001b[0m\n",
      "\u001b[1;32m~\\anaconda3\\envs\\sister\\lib\\site-packages\\pandas\\core\\generic.py\u001b[0m in \u001b[0;36mdrop\u001b[1;34m(self, labels, axis, index, columns, level, inplace, errors)\u001b[0m\n\u001b[0;32m   3887\u001b[0m         \u001b[1;32mfor\u001b[0m \u001b[0maxis\u001b[0m\u001b[1;33m,\u001b[0m \u001b[0mlabels\u001b[0m \u001b[1;32min\u001b[0m \u001b[0maxes\u001b[0m\u001b[1;33m.\u001b[0m\u001b[0mitems\u001b[0m\u001b[1;33m(\u001b[0m\u001b[1;33m)\u001b[0m\u001b[1;33m:\u001b[0m\u001b[1;33m\u001b[0m\u001b[1;33m\u001b[0m\u001b[0m\n\u001b[0;32m   3888\u001b[0m             \u001b[1;32mif\u001b[0m \u001b[0mlabels\u001b[0m \u001b[1;32mis\u001b[0m \u001b[1;32mnot\u001b[0m \u001b[1;32mNone\u001b[0m\u001b[1;33m:\u001b[0m\u001b[1;33m\u001b[0m\u001b[1;33m\u001b[0m\u001b[0m\n\u001b[1;32m-> 3889\u001b[1;33m                 \u001b[0mobj\u001b[0m \u001b[1;33m=\u001b[0m \u001b[0mobj\u001b[0m\u001b[1;33m.\u001b[0m\u001b[0m_drop_axis\u001b[0m\u001b[1;33m(\u001b[0m\u001b[0mlabels\u001b[0m\u001b[1;33m,\u001b[0m \u001b[0maxis\u001b[0m\u001b[1;33m,\u001b[0m \u001b[0mlevel\u001b[0m\u001b[1;33m=\u001b[0m\u001b[0mlevel\u001b[0m\u001b[1;33m,\u001b[0m \u001b[0merrors\u001b[0m\u001b[1;33m=\u001b[0m\u001b[0merrors\u001b[0m\u001b[1;33m)\u001b[0m\u001b[1;33m\u001b[0m\u001b[1;33m\u001b[0m\u001b[0m\n\u001b[0m\u001b[0;32m   3890\u001b[0m \u001b[1;33m\u001b[0m\u001b[0m\n\u001b[0;32m   3891\u001b[0m         \u001b[1;32mif\u001b[0m \u001b[0minplace\u001b[0m\u001b[1;33m:\u001b[0m\u001b[1;33m\u001b[0m\u001b[1;33m\u001b[0m\u001b[0m\n",
      "\u001b[1;32m~\\anaconda3\\envs\\sister\\lib\\site-packages\\pandas\\core\\generic.py\u001b[0m in \u001b[0;36m_drop_axis\u001b[1;34m(self, labels, axis, level, errors)\u001b[0m\n\u001b[0;32m   3921\u001b[0m                 \u001b[0mnew_axis\u001b[0m \u001b[1;33m=\u001b[0m \u001b[0maxis\u001b[0m\u001b[1;33m.\u001b[0m\u001b[0mdrop\u001b[0m\u001b[1;33m(\u001b[0m\u001b[0mlabels\u001b[0m\u001b[1;33m,\u001b[0m \u001b[0mlevel\u001b[0m\u001b[1;33m=\u001b[0m\u001b[0mlevel\u001b[0m\u001b[1;33m,\u001b[0m \u001b[0merrors\u001b[0m\u001b[1;33m=\u001b[0m\u001b[0merrors\u001b[0m\u001b[1;33m)\u001b[0m\u001b[1;33m\u001b[0m\u001b[1;33m\u001b[0m\u001b[0m\n\u001b[0;32m   3922\u001b[0m             \u001b[1;32melse\u001b[0m\u001b[1;33m:\u001b[0m\u001b[1;33m\u001b[0m\u001b[1;33m\u001b[0m\u001b[0m\n\u001b[1;32m-> 3923\u001b[1;33m                 \u001b[0mnew_axis\u001b[0m \u001b[1;33m=\u001b[0m \u001b[0maxis\u001b[0m\u001b[1;33m.\u001b[0m\u001b[0mdrop\u001b[0m\u001b[1;33m(\u001b[0m\u001b[0mlabels\u001b[0m\u001b[1;33m,\u001b[0m \u001b[0merrors\u001b[0m\u001b[1;33m=\u001b[0m\u001b[0merrors\u001b[0m\u001b[1;33m)\u001b[0m\u001b[1;33m\u001b[0m\u001b[1;33m\u001b[0m\u001b[0m\n\u001b[0m\u001b[0;32m   3924\u001b[0m             \u001b[0mresult\u001b[0m \u001b[1;33m=\u001b[0m \u001b[0mself\u001b[0m\u001b[1;33m.\u001b[0m\u001b[0mreindex\u001b[0m\u001b[1;33m(\u001b[0m\u001b[1;33m**\u001b[0m\u001b[1;33m{\u001b[0m\u001b[0maxis_name\u001b[0m\u001b[1;33m:\u001b[0m \u001b[0mnew_axis\u001b[0m\u001b[1;33m}\u001b[0m\u001b[1;33m)\u001b[0m\u001b[1;33m\u001b[0m\u001b[1;33m\u001b[0m\u001b[0m\n\u001b[0;32m   3925\u001b[0m \u001b[1;33m\u001b[0m\u001b[0m\n",
      "\u001b[1;32m~\\anaconda3\\envs\\sister\\lib\\site-packages\\pandas\\core\\indexes\\base.py\u001b[0m in \u001b[0;36mdrop\u001b[1;34m(self, labels, errors)\u001b[0m\n\u001b[0;32m   5285\u001b[0m         \u001b[1;32mif\u001b[0m \u001b[0mmask\u001b[0m\u001b[1;33m.\u001b[0m\u001b[0many\u001b[0m\u001b[1;33m(\u001b[0m\u001b[1;33m)\u001b[0m\u001b[1;33m:\u001b[0m\u001b[1;33m\u001b[0m\u001b[1;33m\u001b[0m\u001b[0m\n\u001b[0;32m   5286\u001b[0m             \u001b[1;32mif\u001b[0m \u001b[0merrors\u001b[0m \u001b[1;33m!=\u001b[0m \u001b[1;34m\"ignore\"\u001b[0m\u001b[1;33m:\u001b[0m\u001b[1;33m\u001b[0m\u001b[1;33m\u001b[0m\u001b[0m\n\u001b[1;32m-> 5287\u001b[1;33m                 \u001b[1;32mraise\u001b[0m \u001b[0mKeyError\u001b[0m\u001b[1;33m(\u001b[0m\u001b[1;34mf\"{labels[mask]} not found in axis\"\u001b[0m\u001b[1;33m)\u001b[0m\u001b[1;33m\u001b[0m\u001b[1;33m\u001b[0m\u001b[0m\n\u001b[0m\u001b[0;32m   5288\u001b[0m             \u001b[0mindexer\u001b[0m \u001b[1;33m=\u001b[0m \u001b[0mindexer\u001b[0m\u001b[1;33m[\u001b[0m\u001b[1;33m~\u001b[0m\u001b[0mmask\u001b[0m\u001b[1;33m]\u001b[0m\u001b[1;33m\u001b[0m\u001b[1;33m\u001b[0m\u001b[0m\n\u001b[0;32m   5289\u001b[0m         \u001b[1;32mreturn\u001b[0m \u001b[0mself\u001b[0m\u001b[1;33m.\u001b[0m\u001b[0mdelete\u001b[0m\u001b[1;33m(\u001b[0m\u001b[0mindexer\u001b[0m\u001b[1;33m)\u001b[0m\u001b[1;33m\u001b[0m\u001b[1;33m\u001b[0m\u001b[0m\n",
      "\u001b[1;31mKeyError\u001b[0m: '[False False False ... False False False] not found in axis'"
     ]
    }
   ],
   "source": [
    "answer.drop(answer['Date']==store_date[0].values[0].index)"
   ]
  },
  {
   "cell_type": "code",
   "execution_count": 158,
   "id": "c5a0d640",
   "metadata": {
    "ExecuteTime": {
     "end_time": "2022-08-26T11:34:05.252104Z",
     "start_time": "2022-08-26T11:34:05.236421Z"
    }
   },
   "outputs": [
    {
     "data": {
      "text/html": [
       "<div>\n",
       "<style scoped>\n",
       "    .dataframe tbody tr th:only-of-type {\n",
       "        vertical-align: middle;\n",
       "    }\n",
       "\n",
       "    .dataframe tbody tr th {\n",
       "        vertical-align: top;\n",
       "    }\n",
       "\n",
       "    .dataframe thead th {\n",
       "        text-align: right;\n",
       "    }\n",
       "</style>\n",
       "<table border=\"1\" class=\"dataframe\">\n",
       "  <thead>\n",
       "    <tr style=\"text-align: right;\">\n",
       "      <th></th>\n",
       "      <th>Unnamed: 0</th>\n",
       "      <th>UpdateTime</th>\n",
       "      <th>kWh</th>\n",
       "      <th>minute</th>\n",
       "      <th>Hour</th>\n",
       "      <th>Date</th>\n",
       "      <th>min_interval</th>\n",
       "    </tr>\n",
       "  </thead>\n",
       "  <tbody>\n",
       "    <tr>\n",
       "      <th>0</th>\n",
       "      <td>0</td>\n",
       "      <td>2022-01-04 19:07:33</td>\n",
       "      <td>549.28</td>\n",
       "      <td>7</td>\n",
       "      <td>19</td>\n",
       "      <td>2022-01-04</td>\n",
       "      <td>1</td>\n",
       "    </tr>\n",
       "    <tr>\n",
       "      <th>1</th>\n",
       "      <td>1</td>\n",
       "      <td>2022-01-04 19:15:54</td>\n",
       "      <td>549.58</td>\n",
       "      <td>15</td>\n",
       "      <td>19</td>\n",
       "      <td>2022-01-04</td>\n",
       "      <td>1</td>\n",
       "    </tr>\n",
       "    <tr>\n",
       "      <th>2</th>\n",
       "      <td>2</td>\n",
       "      <td>2022-01-04 19:15:54</td>\n",
       "      <td>549.58</td>\n",
       "      <td>15</td>\n",
       "      <td>19</td>\n",
       "      <td>2022-01-04</td>\n",
       "      <td>1</td>\n",
       "    </tr>\n",
       "    <tr>\n",
       "      <th>3</th>\n",
       "      <td>3</td>\n",
       "      <td>2022-01-04 19:30:23</td>\n",
       "      <td>550.08</td>\n",
       "      <td>30</td>\n",
       "      <td>19</td>\n",
       "      <td>2022-01-04</td>\n",
       "      <td>2</td>\n",
       "    </tr>\n",
       "    <tr>\n",
       "      <th>4</th>\n",
       "      <td>4</td>\n",
       "      <td>2022-01-04 19:30:23</td>\n",
       "      <td>550.08</td>\n",
       "      <td>30</td>\n",
       "      <td>19</td>\n",
       "      <td>2022-01-04</td>\n",
       "      <td>2</td>\n",
       "    </tr>\n",
       "    <tr>\n",
       "      <th>...</th>\n",
       "      <td>...</td>\n",
       "      <td>...</td>\n",
       "      <td>...</td>\n",
       "      <td>...</td>\n",
       "      <td>...</td>\n",
       "      <td>...</td>\n",
       "      <td>...</td>\n",
       "    </tr>\n",
       "    <tr>\n",
       "      <th>28279</th>\n",
       "      <td>28279</td>\n",
       "      <td>2022-06-06 23:30:22</td>\n",
       "      <td>4863.22</td>\n",
       "      <td>30</td>\n",
       "      <td>23</td>\n",
       "      <td>2022-06-06</td>\n",
       "      <td>2</td>\n",
       "    </tr>\n",
       "    <tr>\n",
       "      <th>28280</th>\n",
       "      <td>28280</td>\n",
       "      <td>2022-06-06 23:30:22</td>\n",
       "      <td>4863.22</td>\n",
       "      <td>30</td>\n",
       "      <td>23</td>\n",
       "      <td>2022-06-06</td>\n",
       "      <td>2</td>\n",
       "    </tr>\n",
       "    <tr>\n",
       "      <th>28281</th>\n",
       "      <td>28281</td>\n",
       "      <td>2022-06-06 23:45:37</td>\n",
       "      <td>4863.60</td>\n",
       "      <td>45</td>\n",
       "      <td>23</td>\n",
       "      <td>2022-06-06</td>\n",
       "      <td>3</td>\n",
       "    </tr>\n",
       "    <tr>\n",
       "      <th>28282</th>\n",
       "      <td>28282</td>\n",
       "      <td>2022-06-06 23:45:37</td>\n",
       "      <td>4863.60</td>\n",
       "      <td>45</td>\n",
       "      <td>23</td>\n",
       "      <td>2022-06-06</td>\n",
       "      <td>3</td>\n",
       "    </tr>\n",
       "    <tr>\n",
       "      <th>28283</th>\n",
       "      <td>28283</td>\n",
       "      <td>2022-06-06 23:59:49</td>\n",
       "      <td>4863.98</td>\n",
       "      <td>59</td>\n",
       "      <td>23</td>\n",
       "      <td>2022-06-06</td>\n",
       "      <td>4</td>\n",
       "    </tr>\n",
       "  </tbody>\n",
       "</table>\n",
       "<p>28284 rows × 7 columns</p>\n",
       "</div>"
      ],
      "text/plain": [
       "       Unnamed: 0           UpdateTime      kWh  minute  Hour        Date  \\\n",
       "0               0  2022-01-04 19:07:33   549.28       7    19  2022-01-04   \n",
       "1               1  2022-01-04 19:15:54   549.58      15    19  2022-01-04   \n",
       "2               2  2022-01-04 19:15:54   549.58      15    19  2022-01-04   \n",
       "3               3  2022-01-04 19:30:23   550.08      30    19  2022-01-04   \n",
       "4               4  2022-01-04 19:30:23   550.08      30    19  2022-01-04   \n",
       "...           ...                  ...      ...     ...   ...         ...   \n",
       "28279       28279  2022-06-06 23:30:22  4863.22      30    23  2022-06-06   \n",
       "28280       28280  2022-06-06 23:30:22  4863.22      30    23  2022-06-06   \n",
       "28281       28281  2022-06-06 23:45:37  4863.60      45    23  2022-06-06   \n",
       "28282       28282  2022-06-06 23:45:37  4863.60      45    23  2022-06-06   \n",
       "28283       28283  2022-06-06 23:59:49  4863.98      59    23  2022-06-06   \n",
       "\n",
       "       min_interval  \n",
       "0                 1  \n",
       "1                 1  \n",
       "2                 1  \n",
       "3                 2  \n",
       "4                 2  \n",
       "...             ...  \n",
       "28279             2  \n",
       "28280             2  \n",
       "28281             3  \n",
       "28282             3  \n",
       "28283             4  \n",
       "\n",
       "[28284 rows x 7 columns]"
      ]
     },
     "execution_count": 158,
     "metadata": {},
     "output_type": "execute_result"
    }
   ],
   "source": [
    "answer"
   ]
  },
  {
   "cell_type": "code",
   "execution_count": null,
   "id": "197b22d9",
   "metadata": {},
   "outputs": [],
   "source": []
  },
  {
   "cell_type": "code",
   "execution_count": 160,
   "id": "83f566b2",
   "metadata": {
    "ExecuteTime": {
     "end_time": "2022-08-26T11:34:53.923641Z",
     "start_time": "2022-08-26T11:34:53.767474Z"
    }
   },
   "outputs": [
    {
     "name": "stdout",
     "output_type": "stream",
     "text": [
      "5664\n",
      "5665\n",
      "5666\n",
      "5667\n",
      "5668\n"
     ]
    }
   ],
   "source": [
    "\n",
    "for i in range(len(answer)):\n",
    "    if():\n",
    "        print(i)"
   ]
  },
  {
   "cell_type": "code",
   "execution_count": 154,
   "id": "446c2f3e",
   "metadata": {
    "ExecuteTime": {
     "end_time": "2022-08-26T11:33:13.673896Z",
     "start_time": "2022-08-26T11:33:13.658319Z"
    }
   },
   "outputs": [
    {
     "data": {
      "text/plain": [
       "'2022-06-06'"
      ]
     },
     "execution_count": 154,
     "metadata": {},
     "output_type": "execute_result"
    }
   ],
   "source": [
    "answer['Date'][i]"
   ]
  },
  {
   "cell_type": "code",
   "execution_count": 149,
   "id": "d61a0d00",
   "metadata": {
    "ExecuteTime": {
     "end_time": "2022-08-26T11:31:58.449527Z",
     "start_time": "2022-08-26T11:31:58.418228Z"
    }
   },
   "outputs": [
    {
     "data": {
      "text/plain": [
       "'2022-02-07'"
      ]
     },
     "execution_count": 149,
     "metadata": {},
     "output_type": "execute_result"
    }
   ],
   "source": []
  },
  {
   "cell_type": "code",
   "execution_count": 168,
   "id": "253813d6",
   "metadata": {
    "ExecuteTime": {
     "end_time": "2022-08-26T11:39:43.517606Z",
     "start_time": "2022-08-26T11:39:43.486308Z"
    }
   },
   "outputs": [
    {
     "data": {
      "text/html": [
       "<div>\n",
       "<style scoped>\n",
       "    .dataframe tbody tr th:only-of-type {\n",
       "        vertical-align: middle;\n",
       "    }\n",
       "\n",
       "    .dataframe tbody tr th {\n",
       "        vertical-align: top;\n",
       "    }\n",
       "\n",
       "    .dataframe thead th {\n",
       "        text-align: right;\n",
       "    }\n",
       "</style>\n",
       "<table border=\"1\" class=\"dataframe\">\n",
       "  <thead>\n",
       "    <tr style=\"text-align: right;\">\n",
       "      <th></th>\n",
       "      <th>Unnamed: 0</th>\n",
       "      <th>UpdateTime</th>\n",
       "      <th>kWh</th>\n",
       "      <th>minute</th>\n",
       "      <th>Hour</th>\n",
       "      <th>Date</th>\n",
       "      <th>min_interval</th>\n",
       "    </tr>\n",
       "  </thead>\n",
       "  <tbody>\n",
       "    <tr>\n",
       "      <th>0</th>\n",
       "      <td>0</td>\n",
       "      <td>2022-01-04 19:07:33</td>\n",
       "      <td>549.28</td>\n",
       "      <td>7</td>\n",
       "      <td>19</td>\n",
       "      <td>2022-01-04</td>\n",
       "      <td>1</td>\n",
       "    </tr>\n",
       "    <tr>\n",
       "      <th>1</th>\n",
       "      <td>1</td>\n",
       "      <td>2022-01-04 19:15:54</td>\n",
       "      <td>549.58</td>\n",
       "      <td>15</td>\n",
       "      <td>19</td>\n",
       "      <td>2022-01-04</td>\n",
       "      <td>1</td>\n",
       "    </tr>\n",
       "    <tr>\n",
       "      <th>2</th>\n",
       "      <td>2</td>\n",
       "      <td>2022-01-04 19:15:54</td>\n",
       "      <td>549.58</td>\n",
       "      <td>15</td>\n",
       "      <td>19</td>\n",
       "      <td>2022-01-04</td>\n",
       "      <td>1</td>\n",
       "    </tr>\n",
       "    <tr>\n",
       "      <th>3</th>\n",
       "      <td>3</td>\n",
       "      <td>2022-01-04 19:30:23</td>\n",
       "      <td>550.08</td>\n",
       "      <td>30</td>\n",
       "      <td>19</td>\n",
       "      <td>2022-01-04</td>\n",
       "      <td>2</td>\n",
       "    </tr>\n",
       "    <tr>\n",
       "      <th>4</th>\n",
       "      <td>4</td>\n",
       "      <td>2022-01-04 19:30:23</td>\n",
       "      <td>550.08</td>\n",
       "      <td>30</td>\n",
       "      <td>19</td>\n",
       "      <td>2022-01-04</td>\n",
       "      <td>2</td>\n",
       "    </tr>\n",
       "    <tr>\n",
       "      <th>...</th>\n",
       "      <td>...</td>\n",
       "      <td>...</td>\n",
       "      <td>...</td>\n",
       "      <td>...</td>\n",
       "      <td>...</td>\n",
       "      <td>...</td>\n",
       "      <td>...</td>\n",
       "    </tr>\n",
       "    <tr>\n",
       "      <th>28279</th>\n",
       "      <td>28279</td>\n",
       "      <td>2022-06-06 23:30:22</td>\n",
       "      <td>4863.22</td>\n",
       "      <td>30</td>\n",
       "      <td>23</td>\n",
       "      <td>2022-06-06</td>\n",
       "      <td>2</td>\n",
       "    </tr>\n",
       "    <tr>\n",
       "      <th>28280</th>\n",
       "      <td>28280</td>\n",
       "      <td>2022-06-06 23:30:22</td>\n",
       "      <td>4863.22</td>\n",
       "      <td>30</td>\n",
       "      <td>23</td>\n",
       "      <td>2022-06-06</td>\n",
       "      <td>2</td>\n",
       "    </tr>\n",
       "    <tr>\n",
       "      <th>28281</th>\n",
       "      <td>28281</td>\n",
       "      <td>2022-06-06 23:45:37</td>\n",
       "      <td>4863.60</td>\n",
       "      <td>45</td>\n",
       "      <td>23</td>\n",
       "      <td>2022-06-06</td>\n",
       "      <td>3</td>\n",
       "    </tr>\n",
       "    <tr>\n",
       "      <th>28282</th>\n",
       "      <td>28282</td>\n",
       "      <td>2022-06-06 23:45:37</td>\n",
       "      <td>4863.60</td>\n",
       "      <td>45</td>\n",
       "      <td>23</td>\n",
       "      <td>2022-06-06</td>\n",
       "      <td>3</td>\n",
       "    </tr>\n",
       "    <tr>\n",
       "      <th>28283</th>\n",
       "      <td>28283</td>\n",
       "      <td>2022-06-06 23:59:49</td>\n",
       "      <td>4863.98</td>\n",
       "      <td>59</td>\n",
       "      <td>23</td>\n",
       "      <td>2022-06-06</td>\n",
       "      <td>4</td>\n",
       "    </tr>\n",
       "  </tbody>\n",
       "</table>\n",
       "<p>28279 rows × 7 columns</p>\n",
       "</div>"
      ],
      "text/plain": [
       "       Unnamed: 0           UpdateTime      kWh  minute  Hour        Date  \\\n",
       "0               0  2022-01-04 19:07:33   549.28       7    19  2022-01-04   \n",
       "1               1  2022-01-04 19:15:54   549.58      15    19  2022-01-04   \n",
       "2               2  2022-01-04 19:15:54   549.58      15    19  2022-01-04   \n",
       "3               3  2022-01-04 19:30:23   550.08      30    19  2022-01-04   \n",
       "4               4  2022-01-04 19:30:23   550.08      30    19  2022-01-04   \n",
       "...           ...                  ...      ...     ...   ...         ...   \n",
       "28279       28279  2022-06-06 23:30:22  4863.22      30    23  2022-06-06   \n",
       "28280       28280  2022-06-06 23:30:22  4863.22      30    23  2022-06-06   \n",
       "28281       28281  2022-06-06 23:45:37  4863.60      45    23  2022-06-06   \n",
       "28282       28282  2022-06-06 23:45:37  4863.60      45    23  2022-06-06   \n",
       "28283       28283  2022-06-06 23:59:49  4863.98      59    23  2022-06-06   \n",
       "\n",
       "       min_interval  \n",
       "0                 1  \n",
       "1                 1  \n",
       "2                 1  \n",
       "3                 2  \n",
       "4                 2  \n",
       "...             ...  \n",
       "28279             2  \n",
       "28280             2  \n",
       "28281             3  \n",
       "28282             3  \n",
       "28283             4  \n",
       "\n",
       "[28279 rows x 7 columns]"
      ]
     },
     "execution_count": 168,
     "metadata": {},
     "output_type": "execute_result"
    }
   ],
   "source": []
  },
  {
   "cell_type": "code",
   "execution_count": 167,
   "id": "ecaa0bc0",
   "metadata": {
    "ExecuteTime": {
     "end_time": "2022-08-26T11:39:21.453977Z",
     "start_time": "2022-08-26T11:39:21.422730Z"
    }
   },
   "outputs": [
    {
     "ename": "ValueError",
     "evalue": "The truth value of a Series is ambiguous. Use a.empty, a.bool(), a.item(), a.any() or a.all().",
     "output_type": "error",
     "traceback": [
      "\u001b[1;31m---------------------------------------------------------------------------\u001b[0m",
      "\u001b[1;31mValueError\u001b[0m                                Traceback (most recent call last)",
      "\u001b[1;32m<ipython-input-167-dde6d843730d>\u001b[0m in \u001b[0;36m<module>\u001b[1;34m\u001b[0m\n\u001b[1;32m----> 1\u001b[1;33m \u001b[0manswer\u001b[0m\u001b[1;33m[\u001b[0m\u001b[1;33m(\u001b[0m\u001b[0manswer\u001b[0m\u001b[1;33m[\u001b[0m\u001b[1;34m'Date'\u001b[0m\u001b[1;33m]\u001b[0m\u001b[1;33m==\u001b[0m\u001b[0mstore_date\u001b[0m\u001b[1;33m[\u001b[0m\u001b[1;36m0\u001b[0m\u001b[1;33m]\u001b[0m\u001b[1;33m.\u001b[0m\u001b[0mvalues\u001b[0m\u001b[1;33m[\u001b[0m\u001b[1;36m0\u001b[0m\u001b[1;33m]\u001b[0m\u001b[1;33m)\u001b[0m \u001b[1;32mand\u001b[0m \u001b[1;33m(\u001b[0m\u001b[0manswer\u001b[0m\u001b[1;33m[\u001b[0m\u001b[1;34m'Hour'\u001b[0m\u001b[1;33m]\u001b[0m\u001b[1;33m==\u001b[0m\u001b[0mstore_hour\u001b[0m\u001b[1;33m[\u001b[0m\u001b[1;36m0\u001b[0m\u001b[1;33m]\u001b[0m\u001b[1;33m.\u001b[0m\u001b[0mvalues\u001b[0m\u001b[1;33m[\u001b[0m\u001b[1;36m0\u001b[0m\u001b[1;33m]\u001b[0m\u001b[1;33m)\u001b[0m\u001b[1;33m]\u001b[0m\u001b[1;33m.\u001b[0m\u001b[0mindex\u001b[0m\u001b[1;33m\u001b[0m\u001b[1;33m\u001b[0m\u001b[0m\n\u001b[0m",
      "\u001b[1;32m~\\anaconda3\\envs\\sister\\lib\\site-packages\\pandas\\core\\generic.py\u001b[0m in \u001b[0;36m__nonzero__\u001b[1;34m(self)\u001b[0m\n\u001b[0;32m   1328\u001b[0m     \u001b[1;32mdef\u001b[0m \u001b[0m__nonzero__\u001b[0m\u001b[1;33m(\u001b[0m\u001b[0mself\u001b[0m\u001b[1;33m)\u001b[0m\u001b[1;33m:\u001b[0m\u001b[1;33m\u001b[0m\u001b[1;33m\u001b[0m\u001b[0m\n\u001b[0;32m   1329\u001b[0m         raise ValueError(\n\u001b[1;32m-> 1330\u001b[1;33m             \u001b[1;34mf\"The truth value of a {type(self).__name__} is ambiguous. \"\u001b[0m\u001b[1;33m\u001b[0m\u001b[1;33m\u001b[0m\u001b[0m\n\u001b[0m\u001b[0;32m   1331\u001b[0m             \u001b[1;34m\"Use a.empty, a.bool(), a.item(), a.any() or a.all().\"\u001b[0m\u001b[1;33m\u001b[0m\u001b[1;33m\u001b[0m\u001b[0m\n\u001b[0;32m   1332\u001b[0m         )\n",
      "\u001b[1;31mValueError\u001b[0m: The truth value of a Series is ambiguous. Use a.empty, a.bool(), a.item(), a.any() or a.all()."
     ]
    }
   ],
   "source": [
    "answer[(answer['Date']==store_date[0].values[0]) and (answer['Hour']==store_hour[0].values[0])].index"
   ]
  },
  {
   "cell_type": "code",
   "execution_count": 142,
   "id": "256a6a53",
   "metadata": {
    "ExecuteTime": {
     "end_time": "2022-08-26T11:30:09.125996Z",
     "start_time": "2022-08-26T11:30:09.110413Z"
    }
   },
   "outputs": [
    {
     "data": {
      "text/plain": [
       "0        False\n",
       "1        False\n",
       "2        False\n",
       "3        False\n",
       "4        False\n",
       "         ...  \n",
       "28279    False\n",
       "28280    False\n",
       "28281    False\n",
       "28282    False\n",
       "28283    False\n",
       "Name: Date, Length: 28284, dtype: bool"
      ]
     },
     "execution_count": 142,
     "metadata": {},
     "output_type": "execute_result"
    }
   ],
   "source": [
    "(answer['Date']==store_date[0].values[0])"
   ]
  },
  {
   "cell_type": "code",
   "execution_count": null,
   "id": "625cc2be",
   "metadata": {
    "ExecuteTime": {
     "end_time": "2022-08-26T10:26:59.315899Z",
     "start_time": "2022-08-26T10:26:59.515Z"
    }
   },
   "outputs": [],
   "source": [
    "def calculate(x):\n",
    "    if x <= 15:\n",
    "        print(type(x))"
   ]
  },
  {
   "cell_type": "code",
   "execution_count": null,
   "id": "550ff2ba",
   "metadata": {
    "ExecuteTime": {
     "end_time": "2022-08-26T07:54:43.235469Z",
     "start_time": "2022-08-26T07:54:44.670Z"
    },
    "scrolled": false
   },
   "outputs": [],
   "source": [
    "# df = pd.read_csv(f'C:/Users/idsl/用電量/提前15分鐘/Dataset/NCUE/2022-08-25/temp/力行館1F103.csv')\n",
    "\n",
    "# df['min_interval'] = df['minute'].map(lambda x: 1 if x<=15 else (2 if x>15 and x<=30 else (3 if x>30 and x<=45 else(4 if x>45 else 0))))\n",
    "# #     同區間只保留第一筆跟最後一筆\n",
    "# first = df.drop_duplicates(subset=['Date','Hour','min_interval'], keep=\"first\").reset_index(drop=True)\n",
    "# last = df.drop_duplicates(subset=['Date','Hour','min_interval'], keep=\"last\").reset_index(drop=True)\n",
    "# last2 = df.drop_duplicates(subset=['Date','Hour','min_interval'], keep=\"last\").reset_index(drop=True)\n",
    "# last2.drop(last2[ last2['minute']== 59 ].index, inplace=True) #在原数据上进行删除\n",
    "# # print(last2.head(10))\n",
    "# answer = pd.concat([first,last,last2],axis=0)\n",
    "# column= ['Date','Hour','minute']\n",
    "# answer = answer.sort_values(by=column)\n",
    "# # print(answer.head(10))\n",
    "# #依據電表，用下一時段-前一時段\n",
    "# power_next = answer.shift(-1).groupby(answer.index).first()\n",
    "# power_pre = answer.groupby(answer.index).first()\n",
    "# power_pre.drop(power_pre[ power_pre['minute']== 0 ].index, inplace=True) #在原数据上进行删除\n",
    "\n",
    "\n",
    "# # 分為0~15、15~30、30~45、45~59\n",
    "# group = answer[~ answer['TIME_TO_INTERVAL'].isin(power_pre['TIME_TO_INTERVAL'])]\n",
    "# # 刪除第一筆\n",
    "# group = group.drop(index=[0]).reset_index()\n",
    "# # 刪除最後一筆\n",
    "# group = group.drop(group.tail(1).index)\n",
    "# # # 串降空的存答案\n",
    "# data = pd.DataFrame()\n",
    "# print(group.head(10))\n",
    "\n",
    "# df = df.append(df2, ignore_index = True)\n",
    "# for i in range(0, len(group), 2):\n",
    "#     target1 = group.loc[i:i].reset_index(drop=True)\n",
    "#     target2 = group.loc[i+1:i+1].reset_index(drop=True)\n",
    "# #     print(target1['kWh'])\n",
    "# #     print(target2['kWh'])..\n",
    "#     target2['power'] = target2['kWh'].values[0] - target1['kWh'].values[0]\n",
    "#     data=data.append(target2,ignore_index=True)\n",
    "    \n",
    "# print(data)\n",
    "   \n",
    "    \n",
    "    \n",
    "\n",
    "\n",
    "\n"
   ]
  },
  {
   "cell_type": "code",
   "execution_count": null,
   "id": "55ca8bc7",
   "metadata": {
    "ExecuteTime": {
     "end_time": "2022-08-26T07:54:43.235469Z",
     "start_time": "2022-08-26T07:54:44.670Z"
    }
   },
   "outputs": [],
   "source": [
    "print(power_next.head(6))\n",
    "print(prower_pre.head(6))"
   ]
  },
  {
   "cell_type": "code",
   "execution_count": null,
   "id": "0fbb4af5",
   "metadata": {
    "ExecuteTime": {
     "end_time": "2022-08-26T07:54:43.235469Z",
     "start_time": "2022-08-26T07:54:44.671Z"
    }
   },
   "outputs": [],
   "source": [
    "power_next = answer.shift(-1)\n",
    "power_next"
   ]
  },
  {
   "cell_type": "code",
   "execution_count": null,
   "id": "bbab0d88",
   "metadata": {
    "ExecuteTime": {
     "end_time": "2022-08-26T07:54:43.235469Z",
     "start_time": "2022-08-26T07:54:44.671Z"
    }
   },
   "outputs": [],
   "source": [
    "temp = answer[~ answer['TIME_TO_INTERVAL'].isin(power_pre['TIME_TO_INTERVAL'])]\n",
    "print(temp.head(10))"
   ]
  },
  {
   "cell_type": "code",
   "execution_count": null,
   "id": "5b4a6849",
   "metadata": {
    "ExecuteTime": {
     "end_time": "2022-08-26T07:54:43.235469Z",
     "start_time": "2022-08-26T07:54:44.672Z"
    }
   },
   "outputs": [],
   "source": [
    "answer.head(10)"
   ]
  },
  {
   "cell_type": "code",
   "execution_count": null,
   "id": "351eff69",
   "metadata": {
    "ExecuteTime": {
     "end_time": "2022-08-26T07:54:43.235469Z",
     "start_time": "2022-08-26T07:54:44.672Z"
    }
   },
   "outputs": [],
   "source": [
    "last2.head(10)"
   ]
  },
  {
   "cell_type": "code",
   "execution_count": null,
   "id": "771e596d",
   "metadata": {},
   "outputs": [],
   "source": []
  }
 ],
 "metadata": {
  "kernelspec": {
   "display_name": "Python 3",
   "language": "python",
   "name": "python3"
  },
  "language_info": {
   "codemirror_mode": {
    "name": "ipython",
    "version": 3
   },
   "file_extension": ".py",
   "mimetype": "text/x-python",
   "name": "python",
   "nbconvert_exporter": "python",
   "pygments_lexer": "ipython3",
   "version": "3.6.13"
  }
 },
 "nbformat": 4,
 "nbformat_minor": 5
}
